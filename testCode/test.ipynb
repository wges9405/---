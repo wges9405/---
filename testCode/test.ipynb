{
 "cells": [
  {
   "cell_type": "markdown",
   "metadata": {},
   "source": [
    "## Importing needed libraries"
   ]
  },
  {
   "cell_type": "code",
   "execution_count": 1,
   "metadata": {
    "collapsed": true
   },
   "outputs": [
    {
     "name": "stderr",
     "output_type": "stream",
     "text": [
      "D:\\Anaconda3\\lib\\site-packages\\tensorflow\\python\\framework\\dtypes.py:516: FutureWarning: Passing (type, 1) or '1type' as a synonym of type is deprecated; in a future version of numpy, it will be understood as (type, (1,)) / '(1,)type'.\n",
      "  _np_qint8 = np.dtype([(\"qint8\", np.int8, 1)])\n",
      "D:\\Anaconda3\\lib\\site-packages\\tensorflow\\python\\framework\\dtypes.py:517: FutureWarning: Passing (type, 1) or '1type' as a synonym of type is deprecated; in a future version of numpy, it will be understood as (type, (1,)) / '(1,)type'.\n",
      "  _np_quint8 = np.dtype([(\"quint8\", np.uint8, 1)])\n",
      "D:\\Anaconda3\\lib\\site-packages\\tensorflow\\python\\framework\\dtypes.py:518: FutureWarning: Passing (type, 1) or '1type' as a synonym of type is deprecated; in a future version of numpy, it will be understood as (type, (1,)) / '(1,)type'.\n",
      "  _np_qint16 = np.dtype([(\"qint16\", np.int16, 1)])\n",
      "D:\\Anaconda3\\lib\\site-packages\\tensorflow\\python\\framework\\dtypes.py:519: FutureWarning: Passing (type, 1) or '1type' as a synonym of type is deprecated; in a future version of numpy, it will be understood as (type, (1,)) / '(1,)type'.\n",
      "  _np_quint16 = np.dtype([(\"quint16\", np.uint16, 1)])\n",
      "D:\\Anaconda3\\lib\\site-packages\\tensorflow\\python\\framework\\dtypes.py:520: FutureWarning: Passing (type, 1) or '1type' as a synonym of type is deprecated; in a future version of numpy, it will be understood as (type, (1,)) / '(1,)type'.\n",
      "  _np_qint32 = np.dtype([(\"qint32\", np.int32, 1)])\n",
      "D:\\Anaconda3\\lib\\site-packages\\tensorflow\\python\\framework\\dtypes.py:525: FutureWarning: Passing (type, 1) or '1type' as a synonym of type is deprecated; in a future version of numpy, it will be understood as (type, (1,)) / '(1,)type'.\n",
      "  np_resource = np.dtype([(\"resource\", np.ubyte, 1)])\n",
      "D:\\Anaconda3\\lib\\site-packages\\tensorboard\\compat\\tensorflow_stub\\dtypes.py:541: FutureWarning: Passing (type, 1) or '1type' as a synonym of type is deprecated; in a future version of numpy, it will be understood as (type, (1,)) / '(1,)type'.\n",
      "  _np_qint8 = np.dtype([(\"qint8\", np.int8, 1)])\n",
      "D:\\Anaconda3\\lib\\site-packages\\tensorboard\\compat\\tensorflow_stub\\dtypes.py:542: FutureWarning: Passing (type, 1) or '1type' as a synonym of type is deprecated; in a future version of numpy, it will be understood as (type, (1,)) / '(1,)type'.\n",
      "  _np_quint8 = np.dtype([(\"quint8\", np.uint8, 1)])\n",
      "D:\\Anaconda3\\lib\\site-packages\\tensorboard\\compat\\tensorflow_stub\\dtypes.py:543: FutureWarning: Passing (type, 1) or '1type' as a synonym of type is deprecated; in a future version of numpy, it will be understood as (type, (1,)) / '(1,)type'.\n",
      "  _np_qint16 = np.dtype([(\"qint16\", np.int16, 1)])\n",
      "D:\\Anaconda3\\lib\\site-packages\\tensorboard\\compat\\tensorflow_stub\\dtypes.py:544: FutureWarning: Passing (type, 1) or '1type' as a synonym of type is deprecated; in a future version of numpy, it will be understood as (type, (1,)) / '(1,)type'.\n",
      "  _np_quint16 = np.dtype([(\"quint16\", np.uint16, 1)])\n",
      "D:\\Anaconda3\\lib\\site-packages\\tensorboard\\compat\\tensorflow_stub\\dtypes.py:545: FutureWarning: Passing (type, 1) or '1type' as a synonym of type is deprecated; in a future version of numpy, it will be understood as (type, (1,)) / '(1,)type'.\n",
      "  _np_qint32 = np.dtype([(\"qint32\", np.int32, 1)])\n",
      "D:\\Anaconda3\\lib\\site-packages\\tensorboard\\compat\\tensorflow_stub\\dtypes.py:550: FutureWarning: Passing (type, 1) or '1type' as a synonym of type is deprecated; in a future version of numpy, it will be understood as (type, (1,)) / '(1,)type'.\n",
      "  np_resource = np.dtype([(\"resource\", np.ubyte, 1)])\n",
      "Using TensorFlow backend.\n"
     ]
    }
   ],
   "source": [
    "import sys\n",
    "sys.path.append(\"../test/data_preprocess.py\")\n",
    "from data_preprocess import load_data\n",
    "# import pandas as pd\n",
    "# print(pd.__version__)\n",
    "import numpy as np\n",
    "import tensorflow as tf\n",
    "import keras\n",
    "from keras.utils import np_utils"
   ]
  },
  {
   "cell_type": "markdown",
   "metadata": {},
   "source": [
    "## Functions"
   ]
  },
  {
   "cell_type": "code",
   "execution_count": 2,
   "metadata": {},
   "outputs": [],
   "source": [
    "def show_train_history(train_history, train, validation):\n",
    "    plt.plot(train_history.history[train])\n",
    "    plt.plot(train_history.history[validation])\n",
    "    plt.title('Train History')\n",
    "    plt.ylabel('train')\n",
    "    plt.xlabel('Epoch')\n",
    "    plt.legend(['train', 'validation'], loc='center right')\n",
    "    plt.show()"
   ]
  },
  {
   "cell_type": "markdown",
   "metadata": {},
   "source": [
    "## Loding datasets"
   ]
  },
  {
   "cell_type": "markdown",
   "metadata": {},
   "source": [
    "\n"
   ]
  },
  {
   "cell_type": "code",
   "execution_count": 3,
   "metadata": {},
   "outputs": [],
   "source": [
    "X_train_temp, X_test_temp, y_train, y_test = load_data(20,50,False)\n",
    "X_train = X_train_temp.reshape(X_train_temp.shape[0],X_train_temp.shape[1],X_train_temp.shape[2],1)\n",
    "X_test  = X_test_temp.reshape(X_test_temp.shape[0],X_test_temp.shape[1],X_test_temp.shape[2],1)"
   ]
  },
  {
   "cell_type": "code",
   "execution_count": 4,
   "metadata": {},
   "outputs": [
    {
     "name": "stdout",
     "output_type": "stream",
     "text": [
      "(7352, 128, 12, 1)\n",
      "(2947, 128, 12, 1)\n",
      "(7352, 6)\n",
      "(2947, 6)\n"
     ]
    }
   ],
   "source": [
    "print(X_train.shape)\n",
    "print(X_test.shape)\n",
    "print(y_train.shape)\n",
    "print(y_test.shape)"
   ]
  },
  {
   "cell_type": "markdown",
   "metadata": {},
   "source": [
    "## RNN model"
   ]
  },
  {
   "cell_type": "code",
   "execution_count": 5,
   "metadata": {},
   "outputs": [],
   "source": [
    "# model_RNN = Sequential()\n",
    "# model_RNN.add(LSTM(32, input_shape=(row,col))))\n",
    "# model_RNN.add(Dropout(0.5))\n",
    "# model_RNN.add(Dense(6, activation='sigmoid'))\n",
    "# model_RNN.compile(loss='categorical_crossentropy', optimizer='rmsprop', metrics=['accuracy'])\n",
    "# model_RNN.fit(X_train_temp, y_train, batch_size=16, validation_data=(X_test_temp, y_test), epochs=30)"
   ]
  },
  {
   "cell_type": "markdown",
   "metadata": {},
   "source": [
    "## CNN model"
   ]
  },
  {
   "cell_type": "code",
   "execution_count": 6,
   "metadata": {},
   "outputs": [],
   "source": [
    "from keras.models import Sequential\n",
    "from keras.layers import Activation,Dense,Dropout,Flatten,Conv2D,MaxPooling2D,Flatten, LSTM\n",
    "from keras.layers.normalization import BatchNormalization\n",
    "from keras.optimizers import Adam"
   ]
  },
  {
   "cell_type": "code",
   "execution_count": 7,
   "metadata": {},
   "outputs": [
    {
     "data": {
      "text/html": [
       "<img src=\"./B.jpg\">\n"
      ],
      "text/plain": [
       "<IPython.core.display.HTML object>"
      ]
     },
     "metadata": {},
     "output_type": "display_data"
    }
   ],
   "source": [
    "%%html\n",
    "<img src=\"./B.jpg\">"
   ]
  },
  {
   "cell_type": "code",
   "execution_count": 8,
   "metadata": {},
   "outputs": [],
   "source": [
    "model = Sequential()\n",
    "sample = len(X_train)\n",
    "row = len(X_train[0])\n",
    "col = len(X_train[0][0])\n",
    "channel = len(X_train[0][0][0])\n",
    "validation_split = 0.1"
   ]
  },
  {
   "cell_type": "code",
   "execution_count": 9,
   "metadata": {},
   "outputs": [
    {
     "name": "stdout",
     "output_type": "stream",
     "text": [
      "7352 128 12 1\n"
     ]
    }
   ],
   "source": [
    "print(sample, row, col, channel)"
   ]
  },
  {
   "cell_type": "code",
   "execution_count": 10,
   "metadata": {},
   "outputs": [
    {
     "name": "stdout",
     "output_type": "stream",
     "text": [
      "WARNING:tensorflow:From D:\\Anaconda3\\lib\\site-packages\\keras\\backend\\tensorflow_backend.py:4070: The name tf.nn.max_pool is deprecated. Please use tf.nn.max_pool2d instead.\n",
      "\n"
     ]
    }
   ],
   "source": [
    "#Convolutional layer-1: input size=128x12, filter size=13x6, stride=1x3\n",
    "model.add(Conv2D(filters=4, kernel_size=(13,6), strides=(1,3),  input_shape=(row, col, channel)))\n",
    "\n",
    "#clipped-Relu\n",
    "model.add(Activation('relu'))\n",
    "\n",
    "#BatchNormalization\n",
    "model.add(BatchNormalization(momentum=0.8))\n",
    "\n",
    "#Max_pooling layer-1: pool size=2x1, stride=2x1\n",
    "model.add(MaxPooling2D(pool_size=(2,1), strides=(2,1)))"
   ]
  },
  {
   "cell_type": "code",
   "execution_count": 11,
   "metadata": {},
   "outputs": [],
   "source": [
    "#Convolutional layer-2\n",
    "model.add(Conv2D(filters=16, kernel_size=(13,3), strides=(1,1)))\n",
    "\n",
    "#clipped-Relu\n",
    "model.add(Activation('relu'))\n",
    "\n",
    "#BatchNormalization\n",
    "model.add(BatchNormalization(momentum=0.8))\n",
    "\n",
    "#Max_pooling layer-2: pool size=2x1, stride=2x1\n",
    "model.add(MaxPooling2D(pool_size=(2,1), strides=(2,1)))"
   ]
  },
  {
   "cell_type": "code",
   "execution_count": 12,
   "metadata": {},
   "outputs": [],
   "source": [
    "#Convolutional layer-3\n",
    "model.add(Conv2D(filters=64, kernel_size=(12,1), strides=(1,1)))\n",
    "\n",
    "#clipped-Relu\n",
    "model.add(Activation('relu'))\n",
    "\n",
    "#BatchNormalization\n",
    "model.add(BatchNormalization(momentum=0.8))\n",
    "\n",
    "#Max_pooling layer-3: pool size=2x1, stride=2x1\n",
    "model.add(MaxPooling2D(pool_size=(2,1), strides=(2,1)))"
   ]
  },
  {
   "cell_type": "code",
   "execution_count": 13,
   "metadata": {},
   "outputs": [],
   "source": [
    "#Dropout layer: 50%\n",
    "model.add(Dropout(0.5))\n",
    "\n",
    "#Flatten\n",
    "model.add(Flatten())\n",
    "\n",
    "#Fully-connected layer: softmax\n",
    "model.add(Dense(6, activation='softmax'))"
   ]
  },
  {
   "cell_type": "code",
   "execution_count": 14,
   "metadata": {},
   "outputs": [],
   "source": [
    "model.compile(optimizer=Adam(lr=0.001),\n",
    "              loss='categorical_crossentropy',\n",
    "              metrics=['accuracy'])"
   ]
  },
  {
   "cell_type": "code",
   "execution_count": 15,
   "metadata": {},
   "outputs": [
    {
     "name": "stdout",
     "output_type": "stream",
     "text": [
      "Model: \"sequential_1\"\n",
      "_________________________________________________________________\n",
      "Layer (type)                 Output Shape              Param #   \n",
      "=================================================================\n",
      "conv2d_1 (Conv2D)            (None, 116, 3, 4)         316       \n",
      "_________________________________________________________________\n",
      "activation_1 (Activation)    (None, 116, 3, 4)         0         \n",
      "_________________________________________________________________\n",
      "batch_normalization_1 (Batch (None, 116, 3, 4)         16        \n",
      "_________________________________________________________________\n",
      "max_pooling2d_1 (MaxPooling2 (None, 58, 3, 4)          0         \n",
      "_________________________________________________________________\n",
      "conv2d_2 (Conv2D)            (None, 46, 1, 16)         2512      \n",
      "_________________________________________________________________\n",
      "activation_2 (Activation)    (None, 46, 1, 16)         0         \n",
      "_________________________________________________________________\n",
      "batch_normalization_2 (Batch (None, 46, 1, 16)         64        \n",
      "_________________________________________________________________\n",
      "max_pooling2d_2 (MaxPooling2 (None, 23, 1, 16)         0         \n",
      "_________________________________________________________________\n",
      "conv2d_3 (Conv2D)            (None, 12, 1, 64)         12352     \n",
      "_________________________________________________________________\n",
      "activation_3 (Activation)    (None, 12, 1, 64)         0         \n",
      "_________________________________________________________________\n",
      "batch_normalization_3 (Batch (None, 12, 1, 64)         256       \n",
      "_________________________________________________________________\n",
      "max_pooling2d_3 (MaxPooling2 (None, 6, 1, 64)          0         \n",
      "_________________________________________________________________\n",
      "dropout_1 (Dropout)          (None, 6, 1, 64)          0         \n",
      "_________________________________________________________________\n",
      "flatten_1 (Flatten)          (None, 384)               0         \n",
      "_________________________________________________________________\n",
      "dense_1 (Dense)              (None, 6)                 2310      \n",
      "=================================================================\n",
      "Total params: 17,826\n",
      "Trainable params: 17,658\n",
      "Non-trainable params: 168\n",
      "_________________________________________________________________\n"
     ]
    }
   ],
   "source": [
    "model.summary()"
   ]
  },
  {
   "cell_type": "code",
   "execution_count": 16,
   "metadata": {},
   "outputs": [
    {
     "name": "stdout",
     "output_type": "stream",
     "text": [
      "WARNING:tensorflow:From D:\\Anaconda3\\lib\\site-packages\\keras\\backend\\tensorflow_backend.py:422: The name tf.global_variables is deprecated. Please use tf.compat.v1.global_variables instead.\n",
      "\n",
      "Train on 6616 samples, validate on 736 samples\n",
      "Epoch 1/15\n",
      "6616/6616 [==============================] - 4s 593us/step - loss: 0.9892 - accuracy: 0.6998 - val_loss: 0.3651 - val_accuracy: 0.8302\n",
      "Epoch 2/15\n",
      "6616/6616 [==============================] - 3s 482us/step - loss: 0.4000 - accuracy: 0.8560 - val_loss: 0.2235 - val_accuracy: 0.8886\n",
      "Epoch 3/15\n",
      "6616/6616 [==============================] - 3s 485us/step - loss: 0.2724 - accuracy: 0.9005 - val_loss: 0.1915 - val_accuracy: 0.8954\n",
      "Epoch 4/15\n",
      "6616/6616 [==============================] - 3s 528us/step - loss: 0.2141 - accuracy: 0.9216 - val_loss: 0.2720 - val_accuracy: 0.9022\n",
      "Epoch 5/15\n",
      "6616/6616 [==============================] - 4s 566us/step - loss: 0.1982 - accuracy: 0.9253 - val_loss: 0.1485 - val_accuracy: 0.9226\n",
      "Epoch 6/15\n",
      "6616/6616 [==============================] - 3s 516us/step - loss: 0.1806 - accuracy: 0.9321 - val_loss: 0.1841 - val_accuracy: 0.8995\n",
      "Epoch 7/15\n",
      "6616/6616 [==============================] - 4s 543us/step - loss: 0.1581 - accuracy: 0.9406 - val_loss: 0.1814 - val_accuracy: 0.8967\n",
      "Epoch 8/15\n",
      "6616/6616 [==============================] - 3s 478us/step - loss: 0.1552 - accuracy: 0.9389 - val_loss: 0.2884 - val_accuracy: 0.8886\n",
      "Epoch 9/15\n",
      "6616/6616 [==============================] - 3s 496us/step - loss: 0.1527 - accuracy: 0.9406 - val_loss: 0.2223 - val_accuracy: 0.9144\n",
      "Epoch 10/15\n",
      "6616/6616 [==============================] - 3s 470us/step - loss: 0.1509 - accuracy: 0.9404 - val_loss: 0.2914 - val_accuracy: 0.8913\n",
      "Epoch 11/15\n",
      "6616/6616 [==============================] - 3s 500us/step - loss: 0.1444 - accuracy: 0.9435 - val_loss: 0.2189 - val_accuracy: 0.9117\n",
      "Epoch 12/15\n",
      "6616/6616 [==============================] - 3s 523us/step - loss: 0.1337 - accuracy: 0.9483 - val_loss: 0.2809 - val_accuracy: 0.8967\n",
      "Epoch 13/15\n",
      "6616/6616 [==============================] - 3s 470us/step - loss: 0.1354 - accuracy: 0.9469 - val_loss: 0.1737 - val_accuracy: 0.9266\n",
      "Epoch 14/15\n",
      "6616/6616 [==============================] - 3s 524us/step - loss: 0.1304 - accuracy: 0.9471 - val_loss: 0.1985 - val_accuracy: 0.9226\n",
      "Epoch 15/15\n",
      "6616/6616 [==============================] - 4s 536us/step - loss: 0.1341 - accuracy: 0.9476 - val_loss: 0.2325 - val_accuracy: 0.9103\n"
     ]
    }
   ],
   "source": [
    "train_history = model.fit(X_train, y_train,\n",
    "                          validation_split=validation_split,\n",
    "                          batch_size=128, epochs=15)"
   ]
  },
  {
   "cell_type": "code",
   "execution_count": 17,
   "metadata": {},
   "outputs": [],
   "source": [
    "import matplotlib.pyplot as plt"
   ]
  },
  {
   "cell_type": "code",
   "execution_count": 18,
   "metadata": {
    "scrolled": false
   },
   "outputs": [
    {
     "data": {
      "image/png": "[encoded data removed]",
      "text/plain": [
       "<Figure size 432x288 with 1 Axes>"
      ]
     },
     "metadata": {
      "needs_background": "light"
     },
     "output_type": "display_data"
    }
   ],
   "source": [
    "show_train_history(train_history, 'accuracy', 'val_accuracy')"
   ]
  },
  {
   "cell_type": "code",
   "execution_count": 19,
   "metadata": {},
   "outputs": [
    {
     "data": {
      "image/png": "[encoded data removed]",
      "text/plain": [
       "<Figure size 432x288 with 1 Axes>"
      ]
     },
     "metadata": {
      "needs_background": "light"
     },
     "output_type": "display_data"
    }
   ],
   "source": [
    "show_train_history(train_history, 'loss', 'val_loss')"
   ]
  },
  {
   "cell_type": "code",
   "execution_count": 20,
   "metadata": {},
   "outputs": [
    {
     "name": "stdout",
     "output_type": "stream",
     "text": [
      "2947/2947 [==============================] - 1s 184us/step\n",
      "test accuracy:  0.8971835970878601\n"
     ]
    }
   ],
   "source": [
    "score = model.evaluate(X_test, y_test)\n",
    "print(\"test accuracy: \", score[1])"
   ]
  },
  {
   "cell_type": "code",
   "execution_count": null,
   "metadata": {},
   "outputs": [],
   "source": []
  }
 ],
 "metadata": {
  "kernelspec": {
   "display_name": "Python 3",
   "language": "python",
   "name": "python3"
  },
  "language_info": {
   "codemirror_mode": {
    "name": "ipython",
    "version": 3
   },
   "file_extension": ".py",
   "mimetype": "text/x-python",
   "name": "python",
   "nbconvert_exporter": "python",
   "pygments_lexer": "ipython3",
   "version": "3.7.6"
  }
 },
 "nbformat": 4,
 "nbformat_minor": 4
}
