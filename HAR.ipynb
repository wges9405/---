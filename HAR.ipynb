{
 "cells": [
  {
   "cell_type": "markdown",
   "metadata": {},
   "source": [
    "## Importing library"
   ]
  },
  {
   "cell_type": "code",
   "execution_count": 1,
   "metadata": {},
   "outputs": [
    {
     "name": "stderr",
     "output_type": "stream",
     "text": [
      "D:\\Anaconda3\\lib\\site-packages\\tensorflow\\python\\framework\\dtypes.py:516: FutureWarning: Passing (type, 1) or '1type' as a synonym of type is deprecated; in a future version of numpy, it will be understood as (type, (1,)) / '(1,)type'.\n",
      "  _np_qint8 = np.dtype([(\"qint8\", np.int8, 1)])\n",
      "D:\\Anaconda3\\lib\\site-packages\\tensorflow\\python\\framework\\dtypes.py:517: FutureWarning: Passing (type, 1) or '1type' as a synonym of type is deprecated; in a future version of numpy, it will be understood as (type, (1,)) / '(1,)type'.\n",
      "  _np_quint8 = np.dtype([(\"quint8\", np.uint8, 1)])\n",
      "D:\\Anaconda3\\lib\\site-packages\\tensorflow\\python\\framework\\dtypes.py:518: FutureWarning: Passing (type, 1) or '1type' as a synonym of type is deprecated; in a future version of numpy, it will be understood as (type, (1,)) / '(1,)type'.\n",
      "  _np_qint16 = np.dtype([(\"qint16\", np.int16, 1)])\n",
      "D:\\Anaconda3\\lib\\site-packages\\tensorflow\\python\\framework\\dtypes.py:519: FutureWarning: Passing (type, 1) or '1type' as a synonym of type is deprecated; in a future version of numpy, it will be understood as (type, (1,)) / '(1,)type'.\n",
      "  _np_quint16 = np.dtype([(\"quint16\", np.uint16, 1)])\n",
      "D:\\Anaconda3\\lib\\site-packages\\tensorflow\\python\\framework\\dtypes.py:520: FutureWarning: Passing (type, 1) or '1type' as a synonym of type is deprecated; in a future version of numpy, it will be understood as (type, (1,)) / '(1,)type'.\n",
      "  _np_qint32 = np.dtype([(\"qint32\", np.int32, 1)])\n",
      "D:\\Anaconda3\\lib\\site-packages\\tensorflow\\python\\framework\\dtypes.py:525: FutureWarning: Passing (type, 1) or '1type' as a synonym of type is deprecated; in a future version of numpy, it will be understood as (type, (1,)) / '(1,)type'.\n",
      "  np_resource = np.dtype([(\"resource\", np.ubyte, 1)])\n",
      "D:\\Anaconda3\\lib\\site-packages\\tensorboard\\compat\\tensorflow_stub\\dtypes.py:541: FutureWarning: Passing (type, 1) or '1type' as a synonym of type is deprecated; in a future version of numpy, it will be understood as (type, (1,)) / '(1,)type'.\n",
      "  _np_qint8 = np.dtype([(\"qint8\", np.int8, 1)])\n",
      "D:\\Anaconda3\\lib\\site-packages\\tensorboard\\compat\\tensorflow_stub\\dtypes.py:542: FutureWarning: Passing (type, 1) or '1type' as a synonym of type is deprecated; in a future version of numpy, it will be understood as (type, (1,)) / '(1,)type'.\n",
      "  _np_quint8 = np.dtype([(\"quint8\", np.uint8, 1)])\n",
      "D:\\Anaconda3\\lib\\site-packages\\tensorboard\\compat\\tensorflow_stub\\dtypes.py:543: FutureWarning: Passing (type, 1) or '1type' as a synonym of type is deprecated; in a future version of numpy, it will be understood as (type, (1,)) / '(1,)type'.\n",
      "  _np_qint16 = np.dtype([(\"qint16\", np.int16, 1)])\n",
      "D:\\Anaconda3\\lib\\site-packages\\tensorboard\\compat\\tensorflow_stub\\dtypes.py:544: FutureWarning: Passing (type, 1) or '1type' as a synonym of type is deprecated; in a future version of numpy, it will be understood as (type, (1,)) / '(1,)type'.\n",
      "  _np_quint16 = np.dtype([(\"quint16\", np.uint16, 1)])\n",
      "D:\\Anaconda3\\lib\\site-packages\\tensorboard\\compat\\tensorflow_stub\\dtypes.py:545: FutureWarning: Passing (type, 1) or '1type' as a synonym of type is deprecated; in a future version of numpy, it will be understood as (type, (1,)) / '(1,)type'.\n",
      "  _np_qint32 = np.dtype([(\"qint32\", np.int32, 1)])\n",
      "D:\\Anaconda3\\lib\\site-packages\\tensorboard\\compat\\tensorflow_stub\\dtypes.py:550: FutureWarning: Passing (type, 1) or '1type' as a synonym of type is deprecated; in a future version of numpy, it will be understood as (type, (1,)) / '(1,)type'.\n",
      "  np_resource = np.dtype([(\"resource\", np.ubyte, 1)])\n",
      "Using TensorFlow backend.\n"
     ]
    }
   ],
   "source": [
    "import matplotlib.pyplot as plt\n",
    "import tensorflow as tf\n",
    "import numpy as np\n",
    "import keras\n",
    "import sys\n",
    "sys.path.append(\"../test/data_preprocess.py\")\n",
    "sys.path.append(\"../test/confusion_matrix.py\")\n",
    "from data_preprocess import load_data\n",
    "from confusion_matrix import confusion_matrix"
   ]
  },
  {
   "cell_type": "markdown",
   "metadata": {},
   "source": [
    "## Loding data"
   ]
  },
  {
   "cell_type": "code",
   "execution_count": 42,
   "metadata": {
    "scrolled": false
   },
   "outputs": [
    {
     "name": "stdout",
     "output_type": "stream",
     "text": [
      "(7352, 128, 12) (7352, 6)\n",
      "(2947, 128, 12) (2947, 6)\n"
     ]
    }
   ],
   "source": [
    "X_train_temp, X_test_temp, y_train, y_test = load_data(20,50,False)\n",
    "print(X_train_temp.shape, y_train.shape)\n",
    "print(X_test_temp.shape, y_test.shape)"
   ]
  },
  {
   "cell_type": "markdown",
   "metadata": {},
   "source": [
    "## Function"
   ]
  },
  {
   "cell_type": "code",
   "execution_count": 33,
   "metadata": {},
   "outputs": [],
   "source": [
    "def show_train_history(train_history, train, validation):\n",
    "    plt.plot(train_history.history[train])\n",
    "    plt.plot(train_history.history[validation])\n",
    "    plt.title('Train History')\n",
    "    plt.ylabel('train')\n",
    "    plt.xlabel('Epoch')\n",
    "    plt.legend(['train', 'validation'], loc='center right')\n",
    "    plt.show()\n",
    "    plt.clf()"
   ]
  },
  {
   "cell_type": "markdown",
   "metadata": {},
   "source": [
    "# Neural Network"
   ]
  },
  {
   "cell_type": "code",
   "execution_count": 34,
   "metadata": {},
   "outputs": [],
   "source": [
    "from keras.models import Sequential\n",
    "from keras.layers import Activation,Dense,Dropout,Flatten,Conv2D,MaxPooling2D,Flatten,LSTM\n",
    "from keras.layers.normalization import BatchNormalization\n",
    "from keras.optimizers import Adam"
   ]
  },
  {
   "cell_type": "code",
   "execution_count": 35,
   "metadata": {},
   "outputs": [
    {
     "name": "stdout",
     "output_type": "stream",
     "text": [
      "7352 128 12 1\n"
     ]
    }
   ],
   "source": [
    "sample = len(X_train_temp)\n",
    "train_row = len(X_train_temp[0])\n",
    "train_col = len(X_train_temp[0][0])\n",
    "channel = 1\n",
    "validation_split = 0.1\n",
    "print(sample, train_row, train_col, channel)"
   ]
  },
  {
   "cell_type": "markdown",
   "metadata": {},
   "source": [
    "## RNN model"
   ]
  },
  {
   "cell_type": "code",
   "execution_count": 40,
   "metadata": {},
   "outputs": [
    {
     "name": "stdout",
     "output_type": "stream",
     "text": [
      "Model: \"sequential_6\"\n",
      "_________________________________________________________________\n",
      "Layer (type)                 Output Shape              Param #   \n",
      "=================================================================\n",
      "lstm_6 (LSTM)                (None, 64)                19712     \n",
      "_________________________________________________________________\n",
      "dropout_6 (Dropout)          (None, 64)                0         \n",
      "_________________________________________________________________\n",
      "dense_6 (Dense)              (None, 6)                 390       \n",
      "=================================================================\n",
      "Total params: 20,102\n",
      "Trainable params: 20,102\n",
      "Non-trainable params: 0\n",
      "_________________________________________________________________\n"
     ]
    }
   ],
   "source": [
    "model_RNN = Sequential()\n",
    "model_RNN.add(LSTM(64, input_shape=(train_row, train_col)))\n",
    "model_RNN.add(Dropout(0.5))\n",
    "model_RNN.add(Dense(6, activation='softmax'))\n",
    "model_RNN.compile(loss='categorical_crossentropy', optimizer='Adam', metrics=['accuracy'])\n",
    "model_RNN.summary()"
   ]
  },
  {
   "cell_type": "code",
   "execution_count": 51,
   "metadata": {
    "scrolled": false
   },
   "outputs": [
    {
     "name": "stdout",
     "output_type": "stream",
     "text": [
      "Train on 7352 samples, validate on 2947 samples\n",
      "Epoch 1/15\n",
      "7352/7352 [==============================] - 28s 4ms/step - loss: 0.1486 - accuracy: 0.9463 - val_loss: 0.5169 - val_accuracy: 0.8938\n",
      "Epoch 2/15\n",
      "7352/7352 [==============================] - 30s 4ms/step - loss: 0.1343 - accuracy: 0.9486 - val_loss: 0.4109 - val_accuracy: 0.9019\n",
      "Epoch 3/15\n",
      "7352/7352 [==============================] - 29s 4ms/step - loss: 0.1289 - accuracy: 0.9528 - val_loss: 0.4200 - val_accuracy: 0.9091\n",
      "Epoch 4/15\n",
      "7352/7352 [==============================] - 29s 4ms/step - loss: 0.1260 - accuracy: 0.9508 - val_loss: 0.4219 - val_accuracy: 0.9097\n",
      "Epoch 5/15\n",
      "7352/7352 [==============================] - 28s 4ms/step - loss: 0.1327 - accuracy: 0.9459 - val_loss: 0.4124 - val_accuracy: 0.9060\n",
      "Epoch 6/15\n",
      "7352/7352 [==============================] - 30s 4ms/step - loss: 0.1202 - accuracy: 0.9506 - val_loss: 0.5043 - val_accuracy: 0.8996\n",
      "Epoch 7/15\n",
      "7352/7352 [==============================] - 30s 4ms/step - loss: 0.1219 - accuracy: 0.9531 - val_loss: 0.5025 - val_accuracy: 0.8968\n",
      "Epoch 8/15\n",
      "7352/7352 [==============================] - 28s 4ms/step - loss: 0.1123 - accuracy: 0.9543 - val_loss: 0.5152 - val_accuracy: 0.8948\n",
      "Epoch 9/15\n",
      "7352/7352 [==============================] - 28s 4ms/step - loss: 0.1178 - accuracy: 0.9524 - val_loss: 0.4612 - val_accuracy: 0.9040\n",
      "Epoch 10/15\n",
      "7352/7352 [==============================] - 30s 4ms/step - loss: 0.1156 - accuracy: 0.9532 - val_loss: 0.5368 - val_accuracy: 0.8931\n",
      "Epoch 11/15\n",
      "7352/7352 [==============================] - 32s 4ms/step - loss: 0.1143 - accuracy: 0.9525 - val_loss: 0.4726 - val_accuracy: 0.9101\n",
      "Epoch 12/15\n",
      "7352/7352 [==============================] - 29s 4ms/step - loss: 0.1117 - accuracy: 0.9543 - val_loss: 0.5716 - val_accuracy: 0.8935\n",
      "Epoch 13/15\n",
      "7352/7352 [==============================] - 34s 5ms/step - loss: 0.1123 - accuracy: 0.9529 - val_loss: 0.4174 - val_accuracy: 0.9135\n",
      "Epoch 14/15\n",
      "7352/7352 [==============================] - 29s 4ms/step - loss: 0.1097 - accuracy: 0.9557 - val_loss: 0.4244 - val_accuracy: 0.9108\n",
      "Epoch 15/15\n",
      "7352/7352 [==============================] - 28s 4ms/step - loss: 0.1089 - accuracy: 0.9559 - val_loss: 0.4464 - val_accuracy: 0.9087\n"
     ]
    }
   ],
   "source": [
    "X_train = X_train_temp\n",
    "X_test  = X_test_temp\n",
    "history = model_RNN.fit(X_train, y_train, validation_data=(X_test, y_test), batch_size=16, epochs=15)"
   ]
  },
  {
   "cell_type": "code",
   "execution_count": 52,
   "metadata": {},
   "outputs": [
    {
     "data": {
      "image/png": "[encoded data removed]",
      "text/plain": [
       "<Figure size 432x288 with 1 Axes>"
      ]
     },
     "metadata": {
      "needs_background": "light"
     },
     "output_type": "display_data"
    },
    {
     "data": {
      "image/png": "[encoded data removed]",
      "text/plain": [
       "<Figure size 432x288 with 1 Axes>"
      ]
     },
     "metadata": {
      "needs_background": "light"
     },
     "output_type": "display_data"
    },
    {
     "data": {
      "text/plain": [
       "<Figure size 432x288 with 0 Axes>"
      ]
     },
     "metadata": {},
     "output_type": "display_data"
    }
   ],
   "source": [
    "show_train_history(history, 'accuracy', 'val_accuracy')\n",
    "show_train_history(history, 'loss', 'val_loss')"
   ]
  },
  {
   "cell_type": "code",
   "execution_count": 53,
   "metadata": {},
   "outputs": [
    {
     "name": "stdout",
     "output_type": "stream",
     "text": [
      "2947/2947 [==============================] - 2s 630us/step\n",
      "test accuracy:  0.9087207317352295\n",
      "Pred                LAYING  SITTING  STANDING  WALKING  WALKING_DOWNSTAIRS  \\\n",
      "True                                                                         \n",
      "LAYING                 521        0         0        0                   0   \n",
      "SITTING                  4      436        47        0                   0   \n",
      "STANDING                 0      116       414        2                   0   \n",
      "WALKING                  0        1         0      455                  10   \n",
      "WALKING_DOWNSTAIRS       0        0         0       11                 404   \n",
      "WALKING_UPSTAIRS         0        0         0        9                  14   \n",
      "\n",
      "Pred                WALKING_UPSTAIRS  \n",
      "True                                  \n",
      "LAYING                            16  \n",
      "SITTING                            4  \n",
      "STANDING                           0  \n",
      "WALKING                           30  \n",
      "WALKING_DOWNSTAIRS                 5  \n",
      "WALKING_UPSTAIRS                 448  \n"
     ]
    }
   ],
   "source": [
    "score = model_RNN.evaluate(X_test, y_test)\n",
    "print(\"test accuracy: \", score[1])\n",
    "print(confusion_matrix(y_test, model_RNN.predict(X_test)))"
   ]
  },
  {
   "cell_type": "markdown",
   "metadata": {},
   "source": [
    "## CNN model"
   ]
  },
  {
   "cell_type": "code",
   "execution_count": 46,
   "metadata": {},
   "outputs": [
    {
     "name": "stdout",
     "output_type": "stream",
     "text": [
      "WARNING:tensorflow:From D:\\Anaconda3\\lib\\site-packages\\keras\\backend\\tensorflow_backend.py:4070: The name tf.nn.max_pool is deprecated. Please use tf.nn.max_pool2d instead.\n",
      "\n",
      "Model: \"sequential_7\"\n",
      "_________________________________________________________________\n",
      "Layer (type)                 Output Shape              Param #   \n",
      "=================================================================\n",
      "conv2d_1 (Conv2D)            (None, 116, 3, 4)         316       \n",
      "_________________________________________________________________\n",
      "activation_1 (Activation)    (None, 116, 3, 4)         0         \n",
      "_________________________________________________________________\n",
      "batch_normalization_1 (Batch (None, 116, 3, 4)         16        \n",
      "_________________________________________________________________\n",
      "max_pooling2d_1 (MaxPooling2 (None, 58, 3, 4)          0         \n",
      "_________________________________________________________________\n",
      "conv2d_2 (Conv2D)            (None, 46, 1, 16)         2512      \n",
      "_________________________________________________________________\n",
      "activation_2 (Activation)    (None, 46, 1, 16)         0         \n",
      "_________________________________________________________________\n",
      "batch_normalization_2 (Batch (None, 46, 1, 16)         64        \n",
      "_________________________________________________________________\n",
      "max_pooling2d_2 (MaxPooling2 (None, 23, 1, 16)         0         \n",
      "_________________________________________________________________\n",
      "conv2d_3 (Conv2D)            (None, 12, 1, 64)         12352     \n",
      "_________________________________________________________________\n",
      "activation_3 (Activation)    (None, 12, 1, 64)         0         \n",
      "_________________________________________________________________\n",
      "batch_normalization_3 (Batch (None, 12, 1, 64)         256       \n",
      "_________________________________________________________________\n",
      "max_pooling2d_3 (MaxPooling2 (None, 6, 1, 64)          0         \n",
      "_________________________________________________________________\n",
      "dropout_7 (Dropout)          (None, 6, 1, 64)          0         \n",
      "_________________________________________________________________\n",
      "flatten_1 (Flatten)          (None, 384)               0         \n",
      "_________________________________________________________________\n",
      "dense_7 (Dense)              (None, 6)                 2310      \n",
      "=================================================================\n",
      "Total params: 17,826\n",
      "Trainable params: 17,658\n",
      "Non-trainable params: 168\n",
      "_________________________________________________________________\n"
     ]
    }
   ],
   "source": [
    "model_CNN = Sequential()\n",
    "\n",
    "model_CNN.add(Conv2D(filters=4, kernel_size=(13,6), strides=(1,3),  input_shape=(train_row, train_col, channel)))\n",
    "model_CNN.add(Activation('relu'))\n",
    "model_CNN.add(BatchNormalization(momentum=0.8))\n",
    "model_CNN.add(MaxPooling2D(pool_size=(2,1), strides=(2,1)))\n",
    "\n",
    "model_CNN.add(Conv2D(filters=16, kernel_size=(13,3), strides=(1,1)))\n",
    "model_CNN.add(Activation('relu'))\n",
    "model_CNN.add(BatchNormalization(momentum=0.8))\n",
    "model_CNN.add(MaxPooling2D(pool_size=(2,1), strides=(2,1)))\n",
    "\n",
    "model_CNN.add(Conv2D(filters=64, kernel_size=(12,1), strides=(1,1)))\n",
    "model_CNN.add(Activation('relu'))\n",
    "model_CNN.add(BatchNormalization(momentum=0.8))\n",
    "model_CNN.add(MaxPooling2D(pool_size=(2,1), strides=(2,1)))\n",
    "\n",
    "model_CNN.add(Dropout(0.5))\n",
    "model_CNN.add(Flatten())\n",
    "model_CNN.add(Dense(6, activation='softmax'))\n",
    "model_CNN.compile(optimizer=Adam(lr=0.001), loss='categorical_crossentropy', metrics=['accuracy'])\n",
    "model_CNN.summary()"
   ]
  },
  {
   "cell_type": "code",
   "execution_count": 47,
   "metadata": {},
   "outputs": [
    {
     "name": "stdout",
     "output_type": "stream",
     "text": [
      "Train on 6616 samples, validate on 736 samples\n",
      "Epoch 1/15\n",
      "6616/6616 [==============================] - 5s 807us/step - loss: 0.6469 - accuracy: 0.7969 - val_loss: 0.3111 - val_accuracy: 0.8709\n",
      "Epoch 2/15\n",
      "6616/6616 [==============================] - 5s 744us/step - loss: 0.3073 - accuracy: 0.8948 - val_loss: 0.2655 - val_accuracy: 0.8872\n",
      "Epoch 3/15\n",
      "6616/6616 [==============================] - 5s 787us/step - loss: 0.2381 - accuracy: 0.9126 - val_loss: 0.2710 - val_accuracy: 0.8777\n",
      "Epoch 4/15\n",
      "6616/6616 [==============================] - 5s 783us/step - loss: 0.2291 - accuracy: 0.9214 - val_loss: 0.1532 - val_accuracy: 0.9049\n",
      "Epoch 5/15\n",
      "6616/6616 [==============================] - 5s 806us/step - loss: 0.2075 - accuracy: 0.9216 - val_loss: 0.2590 - val_accuracy: 0.8818\n",
      "Epoch 6/15\n",
      "6616/6616 [==============================] - 6s 891us/step - loss: 0.1784 - accuracy: 0.9317 - val_loss: 0.2042 - val_accuracy: 0.8913\n",
      "Epoch 7/15\n",
      "6616/6616 [==============================] - 6s 833us/step - loss: 0.1810 - accuracy: 0.9346 - val_loss: 0.2897 - val_accuracy: 0.8886\n",
      "Epoch 8/15\n",
      "6616/6616 [==============================] - 5s 790us/step - loss: 0.1662 - accuracy: 0.9371 - val_loss: 0.2935 - val_accuracy: 0.8872\n",
      "Epoch 9/15\n",
      "6616/6616 [==============================] - 5s 783us/step - loss: 0.1602 - accuracy: 0.9418 - val_loss: 0.2313 - val_accuracy: 0.8736\n",
      "Epoch 10/15\n",
      "6616/6616 [==============================] - 5s 803us/step - loss: 0.1673 - accuracy: 0.9383 - val_loss: 0.1951 - val_accuracy: 0.8954\n",
      "Epoch 11/15\n",
      "6616/6616 [==============================] - 5s 804us/step - loss: 0.1653 - accuracy: 0.9370 - val_loss: 0.2925 - val_accuracy: 0.8818\n",
      "Epoch 12/15\n",
      "6616/6616 [==============================] - 5s 784us/step - loss: 0.1574 - accuracy: 0.9385 - val_loss: 0.2250 - val_accuracy: 0.9158\n",
      "Epoch 13/15\n",
      "6616/6616 [==============================] - 5s 787us/step - loss: 0.1494 - accuracy: 0.9439 - val_loss: 0.3059 - val_accuracy: 0.9076\n",
      "Epoch 14/15\n",
      "6616/6616 [==============================] - 5s 788us/step - loss: 0.1330 - accuracy: 0.9489 - val_loss: 0.1737 - val_accuracy: 0.9049\n",
      "Epoch 15/15\n",
      "6616/6616 [==============================] - 5s 787us/step - loss: 0.1427 - accuracy: 0.9447 - val_loss: 0.2202 - val_accuracy: 0.9130\n"
     ]
    }
   ],
   "source": [
    "X_train = X_train_temp.reshape(X_train_temp.shape[0],X_train_temp.shape[1],X_train_temp.shape[2],1)\n",
    "X_test  = X_test_temp.reshape(X_test_temp.shape[0],X_test_temp.shape[1],X_test_temp.shape[2],1)\n",
    "\n",
    "history = model_CNN.fit(X_train, y_train, validation_split=validation_split, batch_size=16, epochs=15)"
   ]
  },
  {
   "cell_type": "code",
   "execution_count": 48,
   "metadata": {},
   "outputs": [
    {
     "data": {
      "image/png": "[encoded data removed]",
      "text/plain": [
       "<Figure size 432x288 with 1 Axes>"
      ]
     },
     "metadata": {
      "needs_background": "light"
     },
     "output_type": "display_data"
    },
    {
     "data": {
      "image/png": "[encoded data removed]",
      "text/plain": [
       "<Figure size 432x288 with 1 Axes>"
      ]
     },
     "metadata": {
      "needs_background": "light"
     },
     "output_type": "display_data"
    },
    {
     "data": {
      "text/plain": [
       "<Figure size 432x288 with 0 Axes>"
      ]
     },
     "metadata": {},
     "output_type": "display_data"
    }
   ],
   "source": [
    "show_train_history(history, 'accuracy', 'val_accuracy')\n",
    "show_train_history(history, 'loss', 'val_loss')"
   ]
  },
  {
   "cell_type": "code",
   "execution_count": 49,
   "metadata": {},
   "outputs": [
    {
     "name": "stdout",
     "output_type": "stream",
     "text": [
      "2947/2947 [==============================] - 0s 161us/step\n",
      "test accuracy:  0.9032914638519287\n",
      "Pred                LAYING  SITTING  STANDING  WALKING  WALKING_DOWNSTAIRS  \\\n",
      "True                                                                         \n",
      "LAYING                 537        0         0        0                   0   \n",
      "SITTING                  0      428        61        1                   1   \n",
      "STANDING                 0      115       411        1                   0   \n",
      "WALKING                  0        2         0      421                  12   \n",
      "WALKING_DOWNSTAIRS       0        0         0        5                 404   \n",
      "WALKING_UPSTAIRS         0        0         5        0                   5   \n",
      "\n",
      "Pred                WALKING_UPSTAIRS  \n",
      "True                                  \n",
      "LAYING                             0  \n",
      "SITTING                            0  \n",
      "STANDING                           5  \n",
      "WALKING                           61  \n",
      "WALKING_DOWNSTAIRS                11  \n",
      "WALKING_UPSTAIRS                 461  \n"
     ]
    }
   ],
   "source": [
    "score = model_CNN.evaluate(X_test, y_test)\n",
    "print(\"test accuracy: \", score[1])\n",
    "print(confusion_matrix(y_test, model_CNN.predict(X_test)))"
   ]
  },
  {
   "cell_type": "code",
   "execution_count": null,
   "metadata": {},
   "outputs": [],
   "source": []
  }
 ],
 "metadata": {
  "kernelspec": {
   "display_name": "Python 3",
   "language": "python",
   "name": "python3"
  },
  "language_info": {
   "codemirror_mode": {
    "name": "ipython",
    "version": 3
   },
   "file_extension": ".py",
   "mimetype": "text/x-python",
   "name": "python",
   "nbconvert_exporter": "python",
   "pygments_lexer": "ipython3",
   "version": "3.7.6"
  }
 },
 "nbformat": 4,
 "nbformat_minor": 4
}
