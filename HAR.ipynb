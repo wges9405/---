{
 "cells": [
  {
   "cell_type": "markdown",
   "metadata": {},
   "source": [
    "## Importing library"
   ]
  },
  {
   "cell_type": "code",
   "execution_count": 1,
   "metadata": {},
   "outputs": [
    {
     "name": "stderr",
     "output_type": "stream",
     "text": [
      "D:\\Anaconda3\\lib\\site-packages\\tensorflow\\python\\framework\\dtypes.py:516: FutureWarning: Passing (type, 1) or '1type' as a synonym of type is deprecated; in a future version of numpy, it will be understood as (type, (1,)) / '(1,)type'.\n",
      "  _np_qint8 = np.dtype([(\"qint8\", np.int8, 1)])\n",
      "D:\\Anaconda3\\lib\\site-packages\\tensorflow\\python\\framework\\dtypes.py:517: FutureWarning: Passing (type, 1) or '1type' as a synonym of type is deprecated; in a future version of numpy, it will be understood as (type, (1,)) / '(1,)type'.\n",
      "  _np_quint8 = np.dtype([(\"quint8\", np.uint8, 1)])\n",
      "D:\\Anaconda3\\lib\\site-packages\\tensorflow\\python\\framework\\dtypes.py:518: FutureWarning: Passing (type, 1) or '1type' as a synonym of type is deprecated; in a future version of numpy, it will be understood as (type, (1,)) / '(1,)type'.\n",
      "  _np_qint16 = np.dtype([(\"qint16\", np.int16, 1)])\n",
      "D:\\Anaconda3\\lib\\site-packages\\tensorflow\\python\\framework\\dtypes.py:519: FutureWarning: Passing (type, 1) or '1type' as a synonym of type is deprecated; in a future version of numpy, it will be understood as (type, (1,)) / '(1,)type'.\n",
      "  _np_quint16 = np.dtype([(\"quint16\", np.uint16, 1)])\n",
      "D:\\Anaconda3\\lib\\site-packages\\tensorflow\\python\\framework\\dtypes.py:520: FutureWarning: Passing (type, 1) or '1type' as a synonym of type is deprecated; in a future version of numpy, it will be understood as (type, (1,)) / '(1,)type'.\n",
      "  _np_qint32 = np.dtype([(\"qint32\", np.int32, 1)])\n",
      "D:\\Anaconda3\\lib\\site-packages\\tensorflow\\python\\framework\\dtypes.py:525: FutureWarning: Passing (type, 1) or '1type' as a synonym of type is deprecated; in a future version of numpy, it will be understood as (type, (1,)) / '(1,)type'.\n",
      "  np_resource = np.dtype([(\"resource\", np.ubyte, 1)])\n",
      "D:\\Anaconda3\\lib\\site-packages\\tensorboard\\compat\\tensorflow_stub\\dtypes.py:541: FutureWarning: Passing (type, 1) or '1type' as a synonym of type is deprecated; in a future version of numpy, it will be understood as (type, (1,)) / '(1,)type'.\n",
      "  _np_qint8 = np.dtype([(\"qint8\", np.int8, 1)])\n",
      "D:\\Anaconda3\\lib\\site-packages\\tensorboard\\compat\\tensorflow_stub\\dtypes.py:542: FutureWarning: Passing (type, 1) or '1type' as a synonym of type is deprecated; in a future version of numpy, it will be understood as (type, (1,)) / '(1,)type'.\n",
      "  _np_quint8 = np.dtype([(\"quint8\", np.uint8, 1)])\n",
      "D:\\Anaconda3\\lib\\site-packages\\tensorboard\\compat\\tensorflow_stub\\dtypes.py:543: FutureWarning: Passing (type, 1) or '1type' as a synonym of type is deprecated; in a future version of numpy, it will be understood as (type, (1,)) / '(1,)type'.\n",
      "  _np_qint16 = np.dtype([(\"qint16\", np.int16, 1)])\n",
      "D:\\Anaconda3\\lib\\site-packages\\tensorboard\\compat\\tensorflow_stub\\dtypes.py:544: FutureWarning: Passing (type, 1) or '1type' as a synonym of type is deprecated; in a future version of numpy, it will be understood as (type, (1,)) / '(1,)type'.\n",
      "  _np_quint16 = np.dtype([(\"quint16\", np.uint16, 1)])\n",
      "D:\\Anaconda3\\lib\\site-packages\\tensorboard\\compat\\tensorflow_stub\\dtypes.py:545: FutureWarning: Passing (type, 1) or '1type' as a synonym of type is deprecated; in a future version of numpy, it will be understood as (type, (1,)) / '(1,)type'.\n",
      "  _np_qint32 = np.dtype([(\"qint32\", np.int32, 1)])\n",
      "D:\\Anaconda3\\lib\\site-packages\\tensorboard\\compat\\tensorflow_stub\\dtypes.py:550: FutureWarning: Passing (type, 1) or '1type' as a synonym of type is deprecated; in a future version of numpy, it will be understood as (type, (1,)) / '(1,)type'.\n",
      "  np_resource = np.dtype([(\"resource\", np.ubyte, 1)])\n",
      "Using TensorFlow backend.\n"
     ]
    }
   ],
   "source": [
    "import matplotlib.pyplot as plt\n",
    "import tensorflow as tf\n",
    "import numpy as np\n",
    "import keras\n",
    "import sys\n",
    "sys.path.append(\"../test/data_preprocess.py\")\n",
    "sys.path.append(\"../test/confusion_matrix.py\")\n",
    "from data_preprocess import load_data\n",
    "from confusion_matrix import confusion_matrix"
   ]
  },
  {
   "cell_type": "markdown",
   "metadata": {},
   "source": [
    "## Loding data"
   ]
  },
  {
   "cell_type": "code",
   "execution_count": 2,
   "metadata": {
    "scrolled": false
   },
   "outputs": [
    {
     "name": "stdout",
     "output_type": "stream",
     "text": [
      "(7352, 128, 12) (7352, 6)\n",
      "(2947, 128, 12) (2947, 6)\n"
     ]
    }
   ],
   "source": [
    "para = [20,50]\n",
    "X_train_temp, X_test_temp, y_train, y_test = load_data(para)\n",
    "print(X_train_temp.shape, y_train.shape)\n",
    "print(X_test_temp.shape, y_test.shape)"
   ]
  },
  {
   "cell_type": "markdown",
   "metadata": {},
   "source": [
    "## Function"
   ]
  },
  {
   "cell_type": "code",
   "execution_count": 3,
   "metadata": {},
   "outputs": [],
   "source": [
    "def show_train_history(train_history, train, validation):\n",
    "    plt.plot(train_history.history[train])\n",
    "    plt.plot(train_history.history[validation])\n",
    "    plt.title('Train History')\n",
    "    plt.ylabel('train')\n",
    "    plt.xlabel('Epoch')\n",
    "    plt.legend(['train', 'validation'], loc='center right')\n",
    "    plt.show()\n",
    "    plt.clf()"
   ]
  },
  {
   "cell_type": "markdown",
   "metadata": {},
   "source": [
    "# Neural Network"
   ]
  },
  {
   "cell_type": "code",
   "execution_count": 4,
   "metadata": {},
   "outputs": [],
   "source": [
    "from keras.models import Sequential\n",
    "from keras.layers import Activation,Dense,Dropout,Flatten,Conv2D,MaxPooling2D,Flatten,LSTM\n",
    "from keras.layers.normalization import BatchNormalization\n",
    "from keras.optimizers import Adam"
   ]
  },
  {
   "cell_type": "code",
   "execution_count": 5,
   "metadata": {},
   "outputs": [
    {
     "name": "stdout",
     "output_type": "stream",
     "text": [
      "7352 128 12 1\n"
     ]
    }
   ],
   "source": [
    "sample = len(X_train_temp)\n",
    "train_row = len(X_train_temp[0])\n",
    "train_col = len(X_train_temp[0][0])\n",
    "channel = 1\n",
    "validation_split = 0.15\n",
    "print(sample, train_row, train_col, channel)"
   ]
  },
  {
   "cell_type": "markdown",
   "metadata": {},
   "source": [
    "## RNN model"
   ]
  },
  {
   "cell_type": "code",
   "execution_count": 6,
   "metadata": {},
   "outputs": [],
   "source": [
    "# model_RNN = Sequential()\n",
    "# model_RNN.add(LSTM(64, input_shape=(train_row, train_col)))\n",
    "# model_RNN.add(Dropout(0.5))\n",
    "# model_RNN.add(Dense(6, activation='softmax'))\n",
    "# model_RNN.compile(loss='categorical_crossentropy', optimizer='Adam', metrics=['accuracy'])\n",
    "# model_RNN.summary()"
   ]
  },
  {
   "cell_type": "code",
   "execution_count": 7,
   "metadata": {
    "scrolled": false
   },
   "outputs": [],
   "source": [
    "# X_train = X_train_temp\n",
    "# X_test  = X_test_temp\n",
    "# history = model_RNN.fit(X_train, y_train, validation_data=(X_test, y_test), batch_size=16, epochs=15)"
   ]
  },
  {
   "cell_type": "code",
   "execution_count": 8,
   "metadata": {},
   "outputs": [],
   "source": [
    "# show_train_history(history, 'accuracy', 'val_accuracy')\n",
    "# show_train_history(history, 'loss', 'val_loss')"
   ]
  },
  {
   "cell_type": "code",
   "execution_count": 9,
   "metadata": {},
   "outputs": [],
   "source": [
    "# score = model_RNN.evaluate(X_test, y_test)\n",
    "# print(\"test accuracy: \", score[1])\n",
    "# print(confusion_matrix(y_test, model_RNN.predict(X_test)))"
   ]
  },
  {
   "cell_type": "markdown",
   "metadata": {},
   "source": [
    "## CNN model"
   ]
  },
  {
   "cell_type": "code",
   "execution_count": 10,
   "metadata": {},
   "outputs": [
    {
     "name": "stdout",
     "output_type": "stream",
     "text": [
      "WARNING:tensorflow:From D:\\Anaconda3\\lib\\site-packages\\keras\\backend\\tensorflow_backend.py:4070: The name tf.nn.max_pool is deprecated. Please use tf.nn.max_pool2d instead.\n",
      "\n",
      "Model: \"sequential_1\"\n",
      "_________________________________________________________________\n",
      "Layer (type)                 Output Shape              Param #   \n",
      "=================================================================\n",
      "conv2d_1 (Conv2D)            (None, 116, 3, 16)        1264      \n",
      "_________________________________________________________________\n",
      "activation_1 (Activation)    (None, 116, 3, 16)        0         \n",
      "_________________________________________________________________\n",
      "batch_normalization_1 (Batch (None, 116, 3, 16)        64        \n",
      "_________________________________________________________________\n",
      "max_pooling2d_1 (MaxPooling2 (None, 58, 3, 16)         0         \n",
      "_________________________________________________________________\n",
      "conv2d_2 (Conv2D)            (None, 46, 1, 32)         20000     \n",
      "_________________________________________________________________\n",
      "activation_2 (Activation)    (None, 46, 1, 32)         0         \n",
      "_________________________________________________________________\n",
      "batch_normalization_2 (Batch (None, 46, 1, 32)         128       \n",
      "_________________________________________________________________\n",
      "max_pooling2d_2 (MaxPooling2 (None, 23, 1, 32)         0         \n",
      "_________________________________________________________________\n",
      "conv2d_3 (Conv2D)            (None, 12, 1, 64)         24640     \n",
      "_________________________________________________________________\n",
      "activation_3 (Activation)    (None, 12, 1, 64)         0         \n",
      "_________________________________________________________________\n",
      "batch_normalization_3 (Batch (None, 12, 1, 64)         256       \n",
      "_________________________________________________________________\n",
      "max_pooling2d_3 (MaxPooling2 (None, 6, 1, 64)          0         \n",
      "_________________________________________________________________\n",
      "dropout_1 (Dropout)          (None, 6, 1, 64)          0         \n",
      "_________________________________________________________________\n",
      "flatten_1 (Flatten)          (None, 384)               0         \n",
      "_________________________________________________________________\n",
      "dense_1 (Dense)              (None, 6)                 2310      \n",
      "=================================================================\n",
      "Total params: 48,662\n",
      "Trainable params: 48,438\n",
      "Non-trainable params: 224\n",
      "_________________________________________________________________\n"
     ]
    }
   ],
   "source": [
    "model_CNN = Sequential()\n",
    "\n",
    "model_CNN.add(Conv2D(filters=16, kernel_size=(13,6), strides=(1,3),  input_shape=(train_row, train_col, channel)))\n",
    "model_CNN.add(Activation('relu'))\n",
    "model_CNN.add(BatchNormalization(momentum=0.8))\n",
    "model_CNN.add(MaxPooling2D(pool_size=(2,1), strides=(2,1)))\n",
    "\n",
    "model_CNN.add(Conv2D(filters=32, kernel_size=(13,3), strides=(1,1)))\n",
    "model_CNN.add(Activation('relu'))\n",
    "model_CNN.add(BatchNormalization(momentum=0.8))\n",
    "model_CNN.add(MaxPooling2D(pool_size=(2,1), strides=(2,1)))\n",
    "\n",
    "model_CNN.add(Conv2D(filters=64, kernel_size=(12,1), strides=(1,1)))\n",
    "model_CNN.add(Activation('relu'))\n",
    "model_CNN.add(BatchNormalization(momentum=0.8))\n",
    "model_CNN.add(MaxPooling2D(pool_size=(2,1), strides=(2,1)))\n",
    "\n",
    "model_CNN.add(Dropout(0.5))\n",
    "model_CNN.add(Flatten())\n",
    "model_CNN.add(Dense(6, activation='softmax'))\n",
    "model_CNN.compile(optimizer=Adam(lr=0.001), loss='categorical_crossentropy', metrics=['accuracy'])\n",
    "model_CNN.summary()"
   ]
  },
  {
   "cell_type": "code",
   "execution_count": 11,
   "metadata": {},
   "outputs": [
    {
     "name": "stdout",
     "output_type": "stream",
     "text": [
      "WARNING:tensorflow:From D:\\Anaconda3\\lib\\site-packages\\keras\\backend\\tensorflow_backend.py:422: The name tf.global_variables is deprecated. Please use tf.compat.v1.global_variables instead.\n",
      "\n",
      "Train on 6249 samples, validate on 1103 samples\n",
      "Epoch 1/45\n",
      "6249/6249 [==============================] - 6s 937us/step - loss: 0.5162 - accuracy: 0.8181 - val_loss: 0.3669 - val_accuracy: 0.9148\n",
      "Epoch 2/45\n",
      "6249/6249 [==============================] - 7s 1ms/step - loss: 0.1463 - accuracy: 0.9421 - val_loss: 0.3656 - val_accuracy: 0.8849\n",
      "Epoch 3/45\n",
      "6249/6249 [==============================] - 6s 906us/step - loss: 0.1324 - accuracy: 0.9523 - val_loss: 0.4247 - val_accuracy: 0.9084\n",
      "Epoch 4/45\n",
      "6249/6249 [==============================] - 5s 877us/step - loss: 0.1149 - accuracy: 0.9549 - val_loss: 0.3266 - val_accuracy: 0.9202\n",
      "Epoch 5/45\n",
      "6249/6249 [==============================] - 5s 879us/step - loss: 0.1034 - accuracy: 0.9525 - val_loss: 0.3602 - val_accuracy: 0.9057\n",
      "Epoch 6/45\n",
      "6249/6249 [==============================] - 5s 878us/step - loss: 0.1055 - accuracy: 0.9541 - val_loss: 0.3468 - val_accuracy: 0.9093\n",
      "Epoch 7/45\n",
      "6249/6249 [==============================] - 5s 880us/step - loss: 0.1009 - accuracy: 0.9576 - val_loss: 0.2935 - val_accuracy: 0.9166\n",
      "Epoch 8/45\n",
      "6249/6249 [==============================] - 6s 882us/step - loss: 0.0943 - accuracy: 0.9568 - val_loss: 0.3647 - val_accuracy: 0.9166\n",
      "Epoch 9/45\n",
      "6249/6249 [==============================] - 6s 887us/step - loss: 0.0981 - accuracy: 0.9594 - val_loss: 0.3424 - val_accuracy: 0.9175\n",
      "Epoch 10/45\n",
      "6249/6249 [==============================] - 6s 884us/step - loss: 0.0831 - accuracy: 0.9603 - val_loss: 0.4373 - val_accuracy: 0.8921\n",
      "Epoch 11/45\n",
      "6249/6249 [==============================] - 6s 884us/step - loss: 0.0889 - accuracy: 0.9618 - val_loss: 0.4521 - val_accuracy: 0.8912\n",
      "Epoch 12/45\n",
      "6249/6249 [==============================] - 6s 884us/step - loss: 0.0852 - accuracy: 0.9606 - val_loss: 0.4817 - val_accuracy: 0.8994\n",
      "Epoch 13/45\n",
      "6249/6249 [==============================] - 6s 885us/step - loss: 0.0835 - accuracy: 0.9589 - val_loss: 0.4230 - val_accuracy: 0.8749\n",
      "Epoch 14/45\n",
      "6249/6249 [==============================] - 6s 886us/step - loss: 0.0874 - accuracy: 0.9566 - val_loss: 0.5097 - val_accuracy: 0.8830\n",
      "Epoch 15/45\n",
      "6249/6249 [==============================] - 5s 875us/step - loss: 0.0894 - accuracy: 0.9624 - val_loss: 0.4613 - val_accuracy: 0.9012\n",
      "Epoch 16/45\n",
      "6249/6249 [==============================] - 5s 877us/step - loss: 0.0871 - accuracy: 0.9573 - val_loss: 0.4185 - val_accuracy: 0.8994\n",
      "Epoch 17/45\n",
      "6249/6249 [==============================] - 5s 858us/step - loss: 0.0791 - accuracy: 0.9626 - val_loss: 0.5228 - val_accuracy: 0.8994\n",
      "Epoch 18/45\n",
      "6249/6249 [==============================] - 6s 881us/step - loss: 0.0863 - accuracy: 0.9581 - val_loss: 0.4300 - val_accuracy: 0.9139\n",
      "Epoch 19/45\n",
      "6249/6249 [==============================] - 6s 888us/step - loss: 0.0795 - accuracy: 0.9637 - val_loss: 0.3993 - val_accuracy: 0.8740\n",
      "Epoch 20/45\n",
      "6249/6249 [==============================] - 6s 886us/step - loss: 0.0757 - accuracy: 0.9661 - val_loss: 0.3855 - val_accuracy: 0.8939\n",
      "Epoch 21/45\n",
      "6249/6249 [==============================] - 6s 882us/step - loss: 0.0733 - accuracy: 0.9645 - val_loss: 0.4784 - val_accuracy: 0.8731\n",
      "Epoch 22/45\n",
      "6249/6249 [==============================] - 6s 897us/step - loss: 0.0671 - accuracy: 0.9685 - val_loss: 0.5756 - val_accuracy: 0.8794\n",
      "Epoch 23/45\n",
      "6249/6249 [==============================] - 6s 907us/step - loss: 0.0808 - accuracy: 0.9621 - val_loss: 0.5581 - val_accuracy: 0.8830\n",
      "Epoch 24/45\n",
      "6249/6249 [==============================] - 6s 888us/step - loss: 0.0761 - accuracy: 0.9653 - val_loss: 0.4228 - val_accuracy: 0.8858\n",
      "Epoch 25/45\n",
      "6249/6249 [==============================] - 6s 885us/step - loss: 0.0801 - accuracy: 0.9646 - val_loss: 0.4254 - val_accuracy: 0.8504\n",
      "Epoch 26/45\n",
      "6249/6249 [==============================] - 6s 888us/step - loss: 0.0893 - accuracy: 0.9574 - val_loss: 0.4166 - val_accuracy: 0.9039\n",
      "Epoch 27/45\n",
      "6249/6249 [==============================] - 6s 883us/step - loss: 0.0814 - accuracy: 0.9626 - val_loss: 0.5429 - val_accuracy: 0.8794\n",
      "Epoch 28/45\n",
      "6249/6249 [==============================] - 6s 888us/step - loss: 0.0690 - accuracy: 0.9666 - val_loss: 0.9221 - val_accuracy: 0.8459\n",
      "Epoch 29/45\n",
      "6249/6249 [==============================] - 6s 894us/step - loss: 0.0685 - accuracy: 0.9678 - val_loss: 0.5232 - val_accuracy: 0.8767\n",
      "Epoch 30/45\n",
      "6249/6249 [==============================] - 6s 888us/step - loss: 0.0629 - accuracy: 0.9714 - val_loss: 0.5671 - val_accuracy: 0.8722\n",
      "Epoch 31/45\n",
      "6249/6249 [==============================] - 6s 891us/step - loss: 0.0630 - accuracy: 0.9726 - val_loss: 0.5258 - val_accuracy: 0.8540\n",
      "Epoch 32/45\n",
      "6249/6249 [==============================] - 6s 891us/step - loss: 0.0630 - accuracy: 0.9707 - val_loss: 0.5828 - val_accuracy: 0.8704\n",
      "Epoch 33/45\n",
      "6249/6249 [==============================] - 6s 895us/step - loss: 0.0660 - accuracy: 0.9709 - val_loss: 0.4542 - val_accuracy: 0.8840\n",
      "Epoch 34/45\n",
      "6249/6249 [==============================] - 6s 886us/step - loss: 0.0592 - accuracy: 0.9736 - val_loss: 0.5149 - val_accuracy: 0.8840\n",
      "Epoch 35/45\n",
      "6249/6249 [==============================] - 6s 891us/step - loss: 0.0678 - accuracy: 0.9717 - val_loss: 0.6456 - val_accuracy: 0.8694\n",
      "Epoch 36/45\n",
      "6249/6249 [==============================] - 6s 888us/step - loss: 0.0633 - accuracy: 0.9680 - val_loss: 0.7507 - val_accuracy: 0.8531\n",
      "Epoch 37/45\n",
      "6249/6249 [==============================] - 6s 895us/step - loss: 0.0591 - accuracy: 0.9715 - val_loss: 0.9456 - val_accuracy: 0.8821\n",
      "Epoch 38/45\n",
      "6249/6249 [==============================] - 6s 898us/step - loss: 0.0531 - accuracy: 0.9770 - val_loss: 0.7190 - val_accuracy: 0.8767\n",
      "Epoch 39/45\n",
      "6249/6249 [==============================] - 5s 877us/step - loss: 0.0609 - accuracy: 0.9726 - val_loss: 0.3891 - val_accuracy: 0.8948\n",
      "Epoch 40/45\n",
      "6249/6249 [==============================] - 6s 900us/step - loss: 0.0646 - accuracy: 0.9717 - val_loss: 0.8426 - val_accuracy: 0.8840\n",
      "Epoch 41/45\n",
      "6249/6249 [==============================] - 6s 898us/step - loss: 0.0578 - accuracy: 0.9739 - val_loss: 0.6876 - val_accuracy: 0.8830\n",
      "Epoch 42/45\n",
      "6249/6249 [==============================] - 6s 903us/step - loss: 0.0545 - accuracy: 0.9747 - val_loss: 0.7238 - val_accuracy: 0.8776\n",
      "Epoch 43/45\n",
      "6249/6249 [==============================] - 6s 897us/step - loss: 0.0508 - accuracy: 0.9771 - val_loss: 0.7365 - val_accuracy: 0.8731\n",
      "Epoch 44/45\n",
      "6249/6249 [==============================] - 6s 937us/step - loss: 0.0515 - accuracy: 0.9768 - val_loss: 0.6141 - val_accuracy: 0.8849\n",
      "Epoch 45/45\n",
      "6249/6249 [==============================] - 6s 886us/step - loss: 0.0566 - accuracy: 0.9763 - val_loss: 0.4525 - val_accuracy: 0.8767\n"
     ]
    }
   ],
   "source": [
    "X_train = X_train_temp.reshape(X_train_temp.shape[0],X_train_temp.shape[1],X_train_temp.shape[2],1)\n",
    "X_test  = X_test_temp.reshape(X_test_temp.shape[0],X_test_temp.shape[1],X_test_temp.shape[2],1)\n",
    "\n",
    "history = model_CNN.fit(X_train, y_train, validation_split=validation_split, batch_size=64, epochs=45)"
   ]
  },
  {
   "cell_type": "code",
   "execution_count": 12,
   "metadata": {},
   "outputs": [
    {
     "data": {
      "image/png": "[encoded data removed]",
      "text/plain": [
       "<Figure size 432x288 with 1 Axes>"
      ]
     },
     "metadata": {
      "needs_background": "light"
     },
     "output_type": "display_data"
    },
    {
     "data": {
      "image/png": "[encoded data removed]",
      "text/plain": [
       "<Figure size 432x288 with 1 Axes>"
      ]
     },
     "metadata": {
      "needs_background": "light"
     },
     "output_type": "display_data"
    },
    {
     "data": {
      "text/plain": [
       "<Figure size 432x288 with 0 Axes>"
      ]
     },
     "metadata": {},
     "output_type": "display_data"
    }
   ],
   "source": [
    "show_train_history(history, 'accuracy', 'val_accuracy')\n",
    "show_train_history(history, 'loss', 'val_loss')"
   ]
  },
  {
   "cell_type": "code",
   "execution_count": 13,
   "metadata": {},
   "outputs": [
    {
     "name": "stdout",
     "output_type": "stream",
     "text": [
      "2947/2947 [==============================] - 1s 258us/step\n",
      "test accuracy:  0.9185612201690674\n",
      "Pred                LAYING  SITTING  STANDING  WALKING  WALKING_DOWNSTAIRS  \\\n",
      "True                                                                         \n",
      "LAYING                 522        0        15        0                   0   \n",
      "SITTING                  0      428        38        0                   0   \n",
      "STANDING                 0       88       441        0                   0   \n",
      "WALKING                  0        0         2      460                  25   \n",
      "WALKING_DOWNSTAIRS       0        0         0        2                 417   \n",
      "WALKING_UPSTAIRS         0        3         0       11                  18   \n",
      "\n",
      "Pred                WALKING_UPSTAIRS  \n",
      "True                                  \n",
      "LAYING                             0  \n",
      "SITTING                           25  \n",
      "STANDING                           3  \n",
      "WALKING                            9  \n",
      "WALKING_DOWNSTAIRS                 1  \n",
      "WALKING_UPSTAIRS                 439  \n"
     ]
    }
   ],
   "source": [
    "score = model_CNN.evaluate(X_test, y_test)\n",
    "print(\"test accuracy: \", score[1])\n",
    "print(confusion_matrix(y_test, model_CNN.predict(X_test)))"
   ]
  },
  {
   "cell_type": "code",
   "execution_count": null,
   "metadata": {},
   "outputs": [],
   "source": []
  }
 ],
 "metadata": {
  "kernelspec": {
   "display_name": "Python 3",
   "language": "python",
   "name": "python3"
  },
  "language_info": {
   "codemirror_mode": {
    "name": "ipython",
    "version": 3
   },
   "file_extension": ".py",
   "mimetype": "text/x-python",
   "name": "python",
   "nbconvert_exporter": "python",
   "pygments_lexer": "ipython3",
   "version": "3.7.6"
  }
 },
 "nbformat": 4,
 "nbformat_minor": 4
}
