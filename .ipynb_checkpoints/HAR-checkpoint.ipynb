{
 "cells": [
  {
   "cell_type": "markdown",
   "metadata": {},
   "source": [
    "## Importing library"
   ]
  },
  {
   "cell_type": "code",
   "execution_count": 2,
   "metadata": {},
   "outputs": [],
   "source": [
    "import matplotlib.pyplot as plt\n",
    "from scipy.fftpack import fft\n",
    "from scipy import signal\n",
    "import tensorflow as tf\n",
    "import pandas as pd\n",
    "import numpy as np\n",
    "import random\n",
    "import keras\n",
    "import sys"
   ]
  },
  {
   "cell_type": "markdown",
   "metadata": {},
   "source": [
    "## Loding data"
   ]
  },
  {
   "cell_type": "code",
   "execution_count": 430,
   "metadata": {},
   "outputs": [],
   "source": [
    "from scipy.fftpack import fft\n",
    "from scipy import signal\n",
    "import pandas as pd\n",
    "import numpy as np\n",
    "\n",
    "SIGNALS = [\n",
    "    \"body_acc_x\", \"body_acc_y\", \"body_acc_z\",\n",
    "    \"body_gyro_x\", \"body_gyro_y\", \"body_gyro_z\",\n",
    "    \"total_acc_x\", \"total_acc_y\", \"total_acc_z\"\n",
    "]\n",
    "\n",
    "#------------------------------------------------------------------------------\n",
    "def _read_csv(subset, signal):    \n",
    "    return pd.read_csv(f'./{subset}Data/{signal}_{subset}.txt', delim_whitespace=True, header=None)\n",
    "\n",
    "def _median_filter(data):\n",
    "    return signal.medfilt(data, [1,3])\n",
    "\n",
    "def _low_pass_butterworth_filter(cutoff, freq, data):\n",
    "    b, a = signal.butter(3, 2*cutoff/freq, btype='lowpass', analog=False, output='ba')\n",
    "    return signal.filtfilt(b, a, data)\n",
    "\n",
    "def _normalization(data):\n",
    "    normalized = np.empty(shape=data.shape)\n",
    "    mean = np.mean(data, axis=1)\n",
    "    std = np.std(data, axis=1)\n",
    "    for row in range(data.shape[0]):\n",
    "        if not std[row] == 0:\n",
    "            for col in range(data.shape[1]):\n",
    "                normalized[row][col] = (data[row][col] - mean[row]) / std[row]\n",
    "    return normalized\n",
    "\n",
    "def _FFT(data):\n",
    "    return abs(fft(data))/128\n",
    "\n",
    "def _shuffle(data, index):\n",
    "    return data[index]\n",
    "\n",
    "#------------------------------------------------------------------------------\n",
    "def Load_data(subset):\n",
    "    data = []\n",
    "    for signal in SIGNALS:\n",
    "        data.append( _read_csv(subset, signal).to_numpy())\n",
    "    return data\n",
    "\n",
    "def Load_target(subset):\n",
    "    return pd.get_dummies(_read_csv(subset, 'y')[0]).to_numpy()\n",
    "\n",
    "def Expand(expand, data):\n",
    "    new_data = []\n",
    "    for i in range(9) : new_data.append(data[i])\n",
    "    if expand=='e':\n",
    "        for i in range(3): new_data.append(data[i])\n",
    "    return new_data\n",
    "\n",
    "def Normalize(data):\n",
    "    new_data = []\n",
    "    for i in range(len(data)):\n",
    "        new_data.append( _normalization(data[i]) )\n",
    "    return new_data\n",
    "\n",
    "def Time_to_Freq(data):\n",
    "    new_data = []\n",
    "    for i in range(len(data)):\n",
    "        new_data.append( _FFT(data[i]) )\n",
    "    return new_data\n",
    "\n",
    "def Reshape(data):\n",
    "    data = np.transpose(data, (1,2,0))\n",
    "    return data.reshape(data.shape[0], data.shape[1], data.shape[2], 1)\n",
    "\n",
    "def Combine(time, freq):\n",
    "    return np.transpose([time, freq], (2,3,1,0))\n",
    "\n",
    "def Shuffle(index, data, channel, y):\n",
    "    new_data = np.empty(shape=data.shape)\n",
    "    for ch in range(channel):\n",
    "        for i in range(len(index)):\n",
    "            if y==True: new_data[i,:] = data[index[i],:]\n",
    "            else: new_data[i,:,:,ch] = data[index[i],:,:,ch]\n",
    "    return new_data"
   ]
  },
  {
   "cell_type": "code",
   "execution_count": 426,
   "metadata": {
    "scrolled": false
   },
   "outputs": [],
   "source": [
    "# sys.path.append(\"./data_preprocess.py\")\n",
    "# import data_preprocess\n",
    "# X_train_list, X_test_list, y_train, y_test = data_preprocess.load_ALL_data()\n",
    "\n",
    "raw_train, raw_test = Load_data('train'), Load_data('test')\n",
    "raw_y_train, y_test = Load_target('train'), Load_target('test')"
   ]
  },
  {
   "cell_type": "code",
   "execution_count": 461,
   "metadata": {},
   "outputs": [],
   "source": [
    "expand = 'e' # n/e, n: 9 signals; e: 12 signals\n",
    "shuffle_index = np.arange(y_train.shape[0])\n",
    "np.random.shuffle(shuffle_index)\n",
    "\n",
    "time_Nn_train, time_Nn_test = Expand(expand, raw_train), Expand(expand, raw_test)"
   ]
  },
  {
   "cell_type": "code",
   "execution_count": 462,
   "metadata": {},
   "outputs": [],
   "source": [
    "# if 'FN' in dataset or 'BN' in dataset or 'A' in dataset or 'TN' in dataset:  # TN FN BN A\n",
    "#     time_Ny_train, time_Ny_test = Normalize(time_Nn_train), Normalize(time_Nn_test)\n",
    "#     print(\"TN/FN/BN/A\")\n",
    "    \n",
    "# if 'F' in dataset or 'B' in dataset or 'A' in dataset: # F B A\n",
    "#     freq_Nn_train, freq_Nn_test = Time_to_Freq(time_Nn_train), Time_to_Freq(time_Nn_test)\n",
    "#     print(\"F/B/A\")\n",
    "    \n",
    "# if 'FN' in dataset or 'BN' in dataset or 'A' in dataset: # FN BN A\n",
    "#     freq_Ny_train, freq_Ny_test = Time_to_Freq(time_Ny_train), Time_to_Freq(time_Ny_test)\n",
    "#     print(\"FN/BN/A\")\n",
    "time_Ny_train, time_Ny_test = Normalize(time_Nn_train), Normalize(time_Nn_test)\n",
    "freq_Nn_train, freq_Nn_test = Time_to_Freq(time_Nn_train), Time_to_Freq(time_Nn_test)\n",
    "freq_Ny_train, freq_Ny_test = Time_to_Freq(time_Ny_train), Time_to_Freq(time_Ny_test)"
   ]
  },
  {
   "cell_type": "code",
   "execution_count": 464,
   "metadata": {},
   "outputs": [],
   "source": [
    "dataset = 'A'  # [(T/F/B/)/N]/A, T: time domian; F: freq. domian; B: both time and freq. domain; A: all; N; normalize\n",
    "                # dataset: T / TN / F / FN / B / BN / A\n",
    "\n",
    "if 'T' in dataset:\n",
    "    X_train = Shuffle(shuffle_index, Reshape(time_Nn_train),1,False)\n",
    "    X_test  = Reshape(time_Nn_test)\n",
    "elif 'TN' in dataset:\n",
    "    X_train = Shuffle(shuffle_index, Reshape(time_Ny_train),1,False)\n",
    "    X_test  = Reshape(time_Ny_test)\n",
    "elif 'F' in dataset:\n",
    "    X_train = Shuffle(shuffle_index, Reshape(freq_Nn_train),1,False)\n",
    "    X_test  = Reshape(freq_Nn_test)\n",
    "elif 'FN' in dataset:\n",
    "    X_train = Shuffle(shuffle_index, Reshape(freq_Ny_train),1,False)\n",
    "    X_test  = Reshape(freq_Ny_test)\n",
    "elif 'B' in dataset:\n",
    "    X_train = Shuffle(shuffle_index, Combine(time_Nn_train, freq_Nn_train),2,False)\n",
    "    X_test  = Combine(time_Nn_test, freq_Nn_test)\n",
    "elif 'BN' in dataset:\n",
    "    X_train = Shuffle(shuffle_index, Combine(time_Ny_train, freq_Ny_train),2,False)\n",
    "    X_test  = Combine(time_Ny_test, freq_Ny_test)\n",
    "elif 'A' in dataset:\n",
    "    X_train = [Shuffle(shuffle_index, Reshape(time_Nn_train),1,False),\n",
    "               Shuffle(shuffle_index, Reshape(time_Ny_train),1,False),\n",
    "               Shuffle(shuffle_index, Reshape(freq_Nn_train),1,False),\n",
    "               Shuffle(shuffle_index, Reshape(freq_Ny_train),1,False),\n",
    "               Shuffle(shuffle_index, Combine(time_Nn_train, freq_Nn_train),2,False),\n",
    "               Shuffle(shuffle_index, Combine(time_Ny_train, freq_Ny_train),2,False)]\n",
    "    X_test  = [Reshape(time_Nn_test),\n",
    "               Reshape(time_Ny_test),\n",
    "               Reshape(freq_Nn_test),\n",
    "               Reshape(freq_Ny_test),\n",
    "               Combine(time_Nn_test, freq_Nn_test),\n",
    "               Combine(time_Ny_test, freq_Ny_test)]\n",
    "y_train = Shuffle(shuffle_index, raw_y_train,1,True)"
   ]
  },
  {
   "cell_type": "code",
   "execution_count": 465,
   "metadata": {},
   "outputs": [
    {
     "name": "stdout",
     "output_type": "stream",
     "text": [
      "6\n",
      "6\n",
      "(7352, 6)\n"
     ]
    }
   ],
   "source": [
    "print(X_train.shape) if 'A' not in dataset else print(len(X_train))\n",
    "print(X_test.shape) if 'A' not in dataset else print(len(X_test))\n",
    "print(y_train.shape)"
   ]
  },
  {
   "cell_type": "markdown",
   "metadata": {
    "scrolled": false
   },
   "source": [
    "## Function"
   ]
  },
  {
   "cell_type": "code",
   "execution_count": 468,
   "metadata": {},
   "outputs": [],
   "source": [
    "def show_train_history(H):\n",
    "    for length in range(len(H)):\n",
    "        plt.plot(H[length].history['val_loss'])\n",
    "    plt.title('Validation Loss')\n",
    "    plt.ylabel('Loss')\n",
    "    plt.xlabel('Epoch')\n",
    "#     plt.legend(['BS:64', 'BS:64', 'BS:128', 'BS:128', 'BS:256', 'BS:256'], loc='upper right')\n",
    "    plt.show()\n",
    "    plt.clf()\n",
    "    \n",
    "    for length in range(len(H)):\n",
    "        plt.plot(H[length].history['val_accuracy'])\n",
    "    plt.title('Validation Accuracy')\n",
    "    plt.ylabel('Accuracy')\n",
    "    plt.xlabel('Epoch')\n",
    "#     plt.legend(['BS:64', 'BS:64', 'BS:128', 'BS:128', 'BS:256', 'BS:256'], loc='upper right')\n",
    "    plt.show()\n",
    "    plt.clf()"
   ]
  },
  {
   "cell_type": "markdown",
   "metadata": {},
   "source": [
    "## CNN model"
   ]
  },
  {
   "cell_type": "code",
   "execution_count": 456,
   "metadata": {},
   "outputs": [],
   "source": [
    "from keras.models import Sequential\n",
    "from keras.layers import Activation,Dense,Dropout,Flatten,Conv2D,MaxPooling2D,Flatten,LSTM\n",
    "from keras.layers.normalization import BatchNormalization\n",
    "from keras.optimizers import Adam\n",
    "from keras import regularizers\n",
    "\n",
    "def CNN_model(channel):\n",
    "    model = Sequential()\n",
    "\n",
    "    model.add(Conv2D(filters=32, kernel_size=(13,6), strides=(1,3),  input_shape=(128, 12, channel)))\n",
    "    model.add(Activation('relu'))\n",
    "    model.add(BatchNormalization(momentum=0.9))\n",
    "    model.add(MaxPooling2D(pool_size=(2,1), strides=(2,1)))\n",
    "\n",
    "    model.add(Conv2D(filters=64, kernel_size=(13,3), strides=(1,1)))\n",
    "    model.add(Activation('relu'))\n",
    "    model.add(BatchNormalization(momentum=0.9))\n",
    "    model.add(MaxPooling2D(pool_size=(2,1), strides=(2,1)))\n",
    "\n",
    "    model.add(Conv2D(filters=128, kernel_size=(12,1), strides=(1,1)))\n",
    "    model.add(Activation('relu'))\n",
    "    model.add(BatchNormalization(momentum=0.9))\n",
    "    model.add(MaxPooling2D(pool_size=(2,1), strides=(2,1)))\n",
    "\n",
    "    model.add(Dropout(0.5))\n",
    "    model.add(Flatten())\n",
    "    model.add(Dense(6, activation='softmax', kernel_regularizer=regularizers.l2(0.01)))\n",
    "    model.compile(optimizer=Adam(lr=0.001), loss='categorical_crossentropy', metrics=['accuracy'])\n",
    "    return model"
   ]
  },
  {
   "cell_type": "code",
   "execution_count": 472,
   "metadata": {
    "scrolled": true
   },
   "outputs": [],
   "source": [
    "sys.path.append(\"../HAR_Test/confusion_matrix.py\")\n",
    "from confusion_matrix import confusion_matrix\n",
    "sys.path.append(\"./model.py\")\n",
    "import model\n",
    "\n",
    "def training(X_train, y_train, X_test, y_test, validation_split, BS, Epochs):\n",
    "    model_CNN = CNN_model(X_train.shape[3])\n",
    "    history = model_CNN.fit(X_train, y_train, validation_split=validation_split, shuffle=True, batch_size=BS, epochs=Epochs)\n",
    "    print('\\ntrain predict: \\n', confusion_matrix(y_train, model_CNN.predict(X_train)))\n",
    "    print('\\ntest predict: \\n', confusion_matrix(y_test, model_CNN.predict(X_test)))\n",
    "    score = model_CNN.evaluate(X_test, y_test)\n",
    "    print(\"\\ntest accuracy: \", score[1])\n",
    "    return history\n"
   ]
  },
  {
   "cell_type": "code",
   "execution_count": 473,
   "metadata": {
    "scrolled": true
   },
   "outputs": [
    {
     "name": "stdout",
     "output_type": "stream",
     "text": [
      "Train on 6249 samples, validate on 1103 samples\n",
      "Epoch 1/15\n",
      "6249/6249 [==============================] - 15s 2ms/step - loss: 2.8931 - accuracy: 0.6350 - val_loss: 3.2149 - val_accuracy: 0.3862\n",
      "Epoch 2/15\n",
      "6249/6249 [==============================] - 13s 2ms/step - loss: 2.4098 - accuracy: 0.7339 - val_loss: 2.3522 - val_accuracy: 0.5811\n",
      "Epoch 3/15\n",
      "6249/6249 [==============================] - 12s 2ms/step - loss: 2.1918 - accuracy: 0.7689 - val_loss: 1.8332 - val_accuracy: 0.8939\n",
      "Epoch 4/15\n",
      "6249/6249 [==============================] - 13s 2ms/step - loss: 2.0139 - accuracy: 0.8192 - val_loss: 1.7749 - val_accuracy: 0.9238\n",
      "Epoch 5/15\n",
      "6249/6249 [==============================] - 12s 2ms/step - loss: 1.9237 - accuracy: 0.8678 - val_loss: 1.7351 - val_accuracy: 0.9266\n",
      "Epoch 6/15\n",
      "6249/6249 [==============================] - 13s 2ms/step - loss: 1.8500 - accuracy: 0.8977 - val_loss: 1.7037 - val_accuracy: 0.9556\n",
      "Epoch 7/15\n",
      "6249/6249 [==============================] - 13s 2ms/step - loss: 1.8140 - accuracy: 0.9214 - val_loss: 1.7100 - val_accuracy: 0.9529\n",
      "Epoch 8/15\n",
      "6249/6249 [==============================] - 13s 2ms/step - loss: 1.7872 - accuracy: 0.9400 - val_loss: 1.6911 - val_accuracy: 0.9501\n",
      "Epoch 9/15\n",
      "6249/6249 [==============================] - 12s 2ms/step - loss: 1.7601 - accuracy: 0.9450 - val_loss: 1.6823 - val_accuracy: 0.9565\n",
      "Epoch 10/15\n",
      "6249/6249 [==============================] - 13s 2ms/step - loss: 1.7499 - accuracy: 0.9470 - val_loss: 1.6769 - val_accuracy: 0.9529\n",
      "Epoch 11/15\n",
      "6249/6249 [==============================] - 13s 2ms/step - loss: 1.8204 - accuracy: 0.9374 - val_loss: 1.7416 - val_accuracy: 0.9365\n",
      "Epoch 12/15\n",
      "6249/6249 [==============================] - 12s 2ms/step - loss: 1.7823 - accuracy: 0.9379 - val_loss: 1.6980 - val_accuracy: 0.9519\n",
      "Epoch 13/15\n",
      "6249/6249 [==============================] - 13s 2ms/step - loss: 1.7519 - accuracy: 0.9445 - val_loss: 1.6700 - val_accuracy: 0.9556\n",
      "Epoch 14/15\n",
      "6249/6249 [==============================] - 13s 2ms/step - loss: 1.7325 - accuracy: 0.9446 - val_loss: 1.6610 - val_accuracy: 0.9501\n",
      "Epoch 15/15\n",
      "6249/6249 [==============================] - 13s 2ms/step - loss: 1.7191 - accuracy: 0.9514 - val_loss: 1.6567 - val_accuracy: 0.9483\n",
      "\n",
      "train predict: \n",
      " Pred                LAYING  SITTING  STANDING  WALKING  WALKING_DOWNSTAIRS  \\\n",
      "True                                                                         \n",
      "LAYING                1407        0         0        0                   0   \n",
      "SITTING                  0     1082       203        0                   0   \n",
      "STANDING                 0      152      1222        0                   0   \n",
      "WALKING                  0        0         0     1226                   0   \n",
      "WALKING_DOWNSTAIRS       0        0         0        0                 986   \n",
      "WALKING_UPSTAIRS         1        0         0        0                   0   \n",
      "\n",
      "Pred                WALKING_UPSTAIRS  \n",
      "True                                  \n",
      "LAYING                             0  \n",
      "SITTING                            1  \n",
      "STANDING                           0  \n",
      "WALKING                            0  \n",
      "WALKING_DOWNSTAIRS                 0  \n",
      "WALKING_UPSTAIRS                1072  \n",
      "\n",
      "test predict: \n",
      " Pred                LAYING  SITTING  STANDING  WALKING  WALKING_DOWNSTAIRS  \\\n",
      "True                                                                         \n",
      "LAYING                 510        0         0        0                   0   \n",
      "SITTING                  0      374       108        0                   0   \n",
      "STANDING                 0       74       452        0                   0   \n",
      "WALKING                  0        0         0      467                  29   \n",
      "WALKING_DOWNSTAIRS       0        0         0        0                 420   \n",
      "WALKING_UPSTAIRS         0        0         0        0                  35   \n",
      "\n",
      "Pred                WALKING_UPSTAIRS  \n",
      "True                                  \n",
      "LAYING                            27  \n",
      "SITTING                            9  \n",
      "STANDING                           6  \n",
      "WALKING                            0  \n",
      "WALKING_DOWNSTAIRS                 0  \n",
      "WALKING_UPSTAIRS                 436  \n",
      "2947/2947 [==============================] - 2s 823us/step\n",
      "\n",
      "test accuracy:  0.9022734761238098\n"
     ]
    }
   ],
   "source": [
    "history = []\n",
    "history.append(training(X_train[0], y_train, X_test[0], y_test, 0.15, 300, 15))"
   ]
  },
  {
   "cell_type": "code",
   "execution_count": 474,
   "metadata": {
    "collapsed": true
   },
   "outputs": [
    {
     "data": {
      "image/png": "[encoded data removed]",
      "text/plain": [
       "<Figure size 432x288 with 1 Axes>"
      ]
     },
     "metadata": {
      "needs_background": "light"
     },
     "output_type": "display_data"
    },
    {
     "data": {
      "image/png": "[encoded data removed]",
      "text/plain": [
       "<Figure size 432x288 with 1 Axes>"
      ]
     },
     "metadata": {
      "needs_background": "light"
     },
     "output_type": "display_data"
    },
    {
     "data": {
      "text/plain": [
       "<Figure size 432x288 with 0 Axes>"
      ]
     },
     "metadata": {},
     "output_type": "display_data"
    }
   ],
   "source": [
    "show_train_history(history)"
   ]
  },
  {
   "cell_type": "code",
   "execution_count": 475,
   "metadata": {
    "scrolled": true
   },
   "outputs": [
    {
     "name": "stdout",
     "output_type": "stream",
     "text": [
      "Train on 6249 samples, validate on 1103 samples\n",
      "Epoch 1/15\n",
      "6249/6249 [==============================] - 15s 2ms/step - loss: 3.5204 - accuracy: 0.4521 - val_loss: 2.1887 - val_accuracy: 0.5920\n",
      "Epoch 2/15\n",
      "6249/6249 [==============================] - 13s 2ms/step - loss: 2.6793 - accuracy: 0.6579 - val_loss: 2.2407 - val_accuracy: 0.7679\n",
      "Epoch 3/15\n",
      "6249/6249 [==============================] - 14s 2ms/step - loss: 2.4853 - accuracy: 0.6772 - val_loss: 2.2079 - val_accuracy: 0.8268\n",
      "Epoch 4/15\n",
      "6249/6249 [==============================] - 13s 2ms/step - loss: 2.3594 - accuracy: 0.6969 - val_loss: 2.1215 - val_accuracy: 0.8359\n",
      "Epoch 5/15\n",
      "6249/6249 [==============================] - 14s 2ms/step - loss: 2.2627 - accuracy: 0.7385 - val_loss: 2.0795 - val_accuracy: 0.8577\n",
      "Epoch 6/15\n",
      "6249/6249 [==============================] - 13s 2ms/step - loss: 2.1905 - accuracy: 0.7598 - val_loss: 2.0047 - val_accuracy: 0.8731\n",
      "Epoch 7/15\n",
      "6249/6249 [==============================] - 13s 2ms/step - loss: 2.1203 - accuracy: 0.7756 - val_loss: 1.9200 - val_accuracy: 0.8776\n",
      "Epoch 8/15\n",
      "6249/6249 [==============================] - 12s 2ms/step - loss: 2.0613 - accuracy: 0.7953 - val_loss: 1.9031 - val_accuracy: 0.8803\n",
      "Epoch 9/15\n",
      "6249/6249 [==============================] - 12s 2ms/step - loss: 2.0011 - accuracy: 0.8254 - val_loss: 1.8276 - val_accuracy: 0.8876\n",
      "Epoch 10/15\n",
      "6249/6249 [==============================] - 12s 2ms/step - loss: 1.9603 - accuracy: 0.8409 - val_loss: 1.8341 - val_accuracy: 0.8976\n",
      "Epoch 11/15\n",
      "6249/6249 [==============================] - 12s 2ms/step - loss: 1.9050 - accuracy: 0.8635 - val_loss: 1.7838 - val_accuracy: 0.9057\n",
      "Epoch 12/15\n",
      "6249/6249 [==============================] - 12s 2ms/step - loss: 1.8619 - accuracy: 0.8782 - val_loss: 1.7533 - val_accuracy: 0.9130\n",
      "Epoch 13/15\n",
      "6249/6249 [==============================] - 12s 2ms/step - loss: 1.8171 - accuracy: 0.9029 - val_loss: 1.7241 - val_accuracy: 0.9220\n",
      "Epoch 14/15\n",
      "6249/6249 [==============================] - 12s 2ms/step - loss: 1.7857 - accuracy: 0.9128 - val_loss: 1.7060 - val_accuracy: 0.9220\n",
      "Epoch 15/15\n",
      "6249/6249 [==============================] - 13s 2ms/step - loss: 1.7558 - accuracy: 0.9277 - val_loss: 1.6927 - val_accuracy: 0.9248\n",
      "\n",
      "train predict: \n",
      " Pred                LAYING  SITTING  STANDING  WALKING  WALKING_DOWNSTAIRS  \\\n",
      "True                                                                         \n",
      "LAYING                1368       25        14        0                   0   \n",
      "SITTING                 29     1222        35        0                   0   \n",
      "STANDING                14       24      1335        0                   1   \n",
      "WALKING                  0        0         0     1226                   0   \n",
      "WALKING_DOWNSTAIRS       0        0         0        0                 986   \n",
      "WALKING_UPSTAIRS         0        0         0        0                   0   \n",
      "\n",
      "Pred                WALKING_UPSTAIRS  \n",
      "True                                  \n",
      "LAYING                             0  \n",
      "SITTING                            0  \n",
      "STANDING                           0  \n",
      "WALKING                            0  \n",
      "WALKING_DOWNSTAIRS                 0  \n",
      "WALKING_UPSTAIRS                1073  \n",
      "\n",
      "test predict: \n",
      " Pred                LAYING  SITTING  STANDING  WALKING  WALKING_DOWNSTAIRS  \\\n",
      "True                                                                         \n",
      "LAYING                 440       63        32        2                   0   \n",
      "SITTING                 37      402        52        0                   0   \n",
      "STANDING                14       51       465        0                   2   \n",
      "WALKING                  0        2        27      461                   4   \n",
      "WALKING_DOWNSTAIRS       7        0         3        3                 397   \n",
      "WALKING_UPSTAIRS         0       21         8        1                  13   \n",
      "\n",
      "Pred                WALKING_UPSTAIRS  \n",
      "True                                  \n",
      "LAYING                             0  \n",
      "SITTING                            0  \n",
      "STANDING                           0  \n",
      "WALKING                            2  \n",
      "WALKING_DOWNSTAIRS                10  \n",
      "WALKING_UPSTAIRS                 428  \n",
      "2947/2947 [==============================] - 2s 785us/step\n",
      "\n",
      "test accuracy:  0.8798778653144836\n"
     ]
    }
   ],
   "source": [
    "history = []\n",
    "history.append(training(X_train[1], y_train, X_test[1], y_test, 0.15, 300, 15))"
   ]
  },
  {
   "cell_type": "code",
   "execution_count": 476,
   "metadata": {
    "collapsed": true
   },
   "outputs": [
    {
     "data": {
      "image/png": "[encoded data removed]",
      "text/plain": [
       "<Figure size 432x288 with 1 Axes>"
      ]
     },
     "metadata": {
      "needs_background": "light"
     },
     "output_type": "display_data"
    },
    {
     "data": {
      "image/png": "[encoded data removed]",
      "text/plain": [
       "<Figure size 432x288 with 1 Axes>"
      ]
     },
     "metadata": {
      "needs_background": "light"
     },
     "output_type": "display_data"
    },
    {
     "data": {
      "text/plain": [
       "<Figure size 432x288 with 0 Axes>"
      ]
     },
     "metadata": {},
     "output_type": "display_data"
    }
   ],
   "source": [
    "show_train_history(history)"
   ]
  },
  {
   "cell_type": "code",
   "execution_count": 477,
   "metadata": {
    "scrolled": true
   },
   "outputs": [
    {
     "name": "stdout",
     "output_type": "stream",
     "text": [
      "Train on 6249 samples, validate on 1103 samples\n",
      "Epoch 1/15\n",
      "6249/6249 [==============================] - 15s 2ms/step - loss: 3.0522 - accuracy: 0.4994 - val_loss: 2.4585 - val_accuracy: 0.1768\n",
      "Epoch 2/15\n",
      "6249/6249 [==============================] - 12s 2ms/step - loss: 2.3972 - accuracy: 0.6888 - val_loss: 2.2871 - val_accuracy: 0.2384\n",
      "Epoch 3/15\n",
      "6249/6249 [==============================] - 12s 2ms/step - loss: 2.2226 - accuracy: 0.7326 - val_loss: 1.9631 - val_accuracy: 0.7081\n",
      "Epoch 4/15\n",
      "6249/6249 [==============================] - 12s 2ms/step - loss: 2.0954 - accuracy: 0.7648 - val_loss: 1.9636 - val_accuracy: 0.7480\n",
      "Epoch 5/15\n",
      "6249/6249 [==============================] - 12s 2ms/step - loss: 2.0253 - accuracy: 0.7848 - val_loss: 2.0293 - val_accuracy: 0.7489\n",
      "Epoch 6/15\n",
      "6249/6249 [==============================] - 13s 2ms/step - loss: 1.9668 - accuracy: 0.8062 - val_loss: 1.9111 - val_accuracy: 0.8123\n",
      "Epoch 7/15\n",
      "6249/6249 [==============================] - 13s 2ms/step - loss: 1.9312 - accuracy: 0.8281 - val_loss: 1.8036 - val_accuracy: 0.8395\n",
      "Epoch 8/15\n",
      "6249/6249 [==============================] - 13s 2ms/step - loss: 1.9019 - accuracy: 0.8393 - val_loss: 1.8067 - val_accuracy: 0.8858\n",
      "Epoch 9/15\n",
      "6249/6249 [==============================] - 12s 2ms/step - loss: 1.8735 - accuracy: 0.8529 - val_loss: 1.7671 - val_accuracy: 0.8613\n",
      "Epoch 10/15\n",
      "6249/6249 [==============================] - 13s 2ms/step - loss: 1.8570 - accuracy: 0.8683 - val_loss: 1.7627 - val_accuracy: 0.8613\n",
      "Epoch 11/15\n",
      "6249/6249 [==============================] - 13s 2ms/step - loss: 1.8397 - accuracy: 0.8747 - val_loss: 1.7318 - val_accuracy: 0.8912\n",
      "Epoch 12/15\n",
      "6249/6249 [==============================] - 13s 2ms/step - loss: 1.8284 - accuracy: 0.8766 - val_loss: 1.8888 - val_accuracy: 0.7561\n",
      "Epoch 13/15\n",
      "6249/6249 [==============================] - 13s 2ms/step - loss: 1.8394 - accuracy: 0.8761 - val_loss: 1.7616 - val_accuracy: 0.8531\n",
      "Epoch 14/15\n",
      "6249/6249 [==============================] - 14s 2ms/step - loss: 1.8149 - accuracy: 0.8694 - val_loss: 1.7132 - val_accuracy: 0.9084\n",
      "Epoch 15/15\n",
      "6249/6249 [==============================] - 13s 2ms/step - loss: 1.8052 - accuracy: 0.8899 - val_loss: 1.7112 - val_accuracy: 0.9121\n",
      "\n",
      "train predict: \n",
      " Pred                LAYING  SITTING  STANDING  WALKING  WALKING_DOWNSTAIRS  \\\n",
      "True                                                                         \n",
      "LAYING                1407        0         0        0                   0   \n",
      "SITTING                  0     1133       152        0                   0   \n",
      "STANDING                 0      417       957        0                   0   \n",
      "WALKING                  0        0         0     1221                   2   \n",
      "WALKING_DOWNSTAIRS       0        0         0        5                 979   \n",
      "WALKING_UPSTAIRS         0        0         0        1                   2   \n",
      "\n",
      "Pred                WALKING_UPSTAIRS  \n",
      "True                                  \n",
      "LAYING                             0  \n",
      "SITTING                            1  \n",
      "STANDING                           0  \n",
      "WALKING                            3  \n",
      "WALKING_DOWNSTAIRS                 2  \n",
      "WALKING_UPSTAIRS                1070  \n",
      "\n",
      "test predict: \n",
      " Pred                LAYING  SITTING  STANDING  WALKING  WALKING_DOWNSTAIRS  \\\n",
      "True                                                                         \n",
      "LAYING                 537        0         0        0                   0   \n",
      "SITTING                  0      374       116        0                   0   \n",
      "STANDING                 0       76       455        0                   0   \n",
      "WALKING                  0        0         0      494                   2   \n",
      "WALKING_DOWNSTAIRS       0        0         2       28                 371   \n",
      "WALKING_UPSTAIRS         0        0         0        0                   1   \n",
      "\n",
      "Pred                WALKING_UPSTAIRS  \n",
      "True                                  \n",
      "LAYING                             0  \n",
      "SITTING                            1  \n",
      "STANDING                           1  \n",
      "WALKING                            0  \n",
      "WALKING_DOWNSTAIRS                19  \n",
      "WALKING_UPSTAIRS                 470  \n",
      "2947/2947 [==============================] - 2s 795us/step\n",
      "\n",
      "test accuracy:  0.9165253043174744\n"
     ]
    }
   ],
   "source": [
    "history = []\n",
    "history.append(training(X_train[2], y_train, X_test[2], y_test, 0.15, 300, 15))"
   ]
  },
  {
   "cell_type": "code",
   "execution_count": 478,
   "metadata": {
    "collapsed": true
   },
   "outputs": [
    {
     "data": {
      "image/png": "[encoded data removed]",
      "text/plain": [
       "<Figure size 432x288 with 1 Axes>"
      ]
     },
     "metadata": {
      "needs_background": "light"
     },
     "output_type": "display_data"
    },
    {
     "data": {
      "image/png": "[encoded data removed]",
      "text/plain": [
       "<Figure size 432x288 with 1 Axes>"
      ]
     },
     "metadata": {
      "needs_background": "light"
     },
     "output_type": "display_data"
    },
    {
     "data": {
      "text/plain": [
       "<Figure size 432x288 with 0 Axes>"
      ]
     },
     "metadata": {},
     "output_type": "display_data"
    }
   ],
   "source": [
    "show_train_history(history)"
   ]
  },
  {
   "cell_type": "code",
   "execution_count": 479,
   "metadata": {
    "scrolled": true
   },
   "outputs": [
    {
     "name": "stdout",
     "output_type": "stream",
     "text": [
      "Train on 6249 samples, validate on 1103 samples\n",
      "Epoch 1/15\n",
      "6249/6249 [==============================] - 15s 2ms/step - loss: 3.3726 - accuracy: 0.4474 - val_loss: 3.3927 - val_accuracy: 0.1768\n",
      "Epoch 2/15\n",
      "6249/6249 [==============================] - 13s 2ms/step - loss: 2.7556 - accuracy: 0.5382 - val_loss: 5.2236 - val_accuracy: 0.1768\n",
      "Epoch 3/15\n",
      "6249/6249 [==============================] - 12s 2ms/step - loss: 2.5566 - accuracy: 0.5777 - val_loss: 2.1277 - val_accuracy: 0.5385\n",
      "Epoch 4/15\n",
      "6249/6249 [==============================] - 12s 2ms/step - loss: 2.3926 - accuracy: 0.6030 - val_loss: 1.9506 - val_accuracy: 0.7425\n",
      "Epoch 5/15\n",
      "6249/6249 [==============================] - 12s 2ms/step - loss: 2.2652 - accuracy: 0.6385 - val_loss: 1.9120 - val_accuracy: 0.7325\n",
      "Epoch 6/15\n",
      "6249/6249 [==============================] - 14s 2ms/step - loss: 2.1475 - accuracy: 0.6747 - val_loss: 1.8721 - val_accuracy: 0.7860\n",
      "Epoch 7/15\n",
      "6249/6249 [==============================] - 13s 2ms/step - loss: 2.0674 - accuracy: 0.7064 - val_loss: 1.8571 - val_accuracy: 0.7924\n",
      "Epoch 8/15\n",
      "6249/6249 [==============================] - 13s 2ms/step - loss: 1.9917 - accuracy: 0.7387 - val_loss: 1.8178 - val_accuracy: 0.8350\n",
      "Epoch 9/15\n",
      "6249/6249 [==============================] - 13s 2ms/step - loss: 1.9486 - accuracy: 0.7676 - val_loss: 1.8316 - val_accuracy: 0.8114\n",
      "Epoch 10/15\n",
      "6249/6249 [==============================] - 13s 2ms/step - loss: 1.9107 - accuracy: 0.7864 - val_loss: 1.7799 - val_accuracy: 0.8477\n",
      "Epoch 11/15\n",
      "6249/6249 [==============================] - 12s 2ms/step - loss: 1.8698 - accuracy: 0.8205 - val_loss: 1.7799 - val_accuracy: 0.8305\n",
      "Epoch 12/15\n",
      "6249/6249 [==============================] - 13s 2ms/step - loss: 1.8552 - accuracy: 0.8275 - val_loss: 1.7626 - val_accuracy: 0.8513\n",
      "Epoch 13/15\n",
      "6249/6249 [==============================] - 13s 2ms/step - loss: 1.8294 - accuracy: 0.8521 - val_loss: 1.7573 - val_accuracy: 0.8640\n",
      "Epoch 14/15\n",
      "6249/6249 [==============================] - 14s 2ms/step - loss: 1.8141 - accuracy: 0.8601 - val_loss: 1.7510 - val_accuracy: 0.8531\n",
      "Epoch 15/15\n",
      "6249/6249 [==============================] - 13s 2ms/step - loss: 1.7944 - accuracy: 0.8795 - val_loss: 1.7349 - val_accuracy: 0.8649\n",
      "\n",
      "train predict: \n",
      " Pred                LAYING  SITTING  STANDING  WALKING  WALKING_DOWNSTAIRS  \\\n",
      "True                                                                         \n",
      "LAYING                1262       76        65        0                   2   \n",
      "SITTING                124      980       179        0                   1   \n",
      "STANDING                56      100      1214        0                   3   \n",
      "WALKING                  0        0         0     1214                   9   \n",
      "WALKING_DOWNSTAIRS       1        0         0        2                 977   \n",
      "WALKING_UPSTAIRS         0        1         0        2                   6   \n",
      "\n",
      "Pred                WALKING_UPSTAIRS  \n",
      "True                                  \n",
      "LAYING                             2  \n",
      "SITTING                            2  \n",
      "STANDING                           1  \n",
      "WALKING                            3  \n",
      "WALKING_DOWNSTAIRS                 6  \n",
      "WALKING_UPSTAIRS                1064  \n",
      "\n",
      "test predict: \n",
      " Pred                LAYING  SITTING  STANDING  WALKING  WALKING_DOWNSTAIRS  \\\n",
      "True                                                                         \n",
      "LAYING                 440       53        33        6                   5   \n",
      "SITTING                 33      328       128        0                   0   \n",
      "STANDING                18       49       464        1                   0   \n",
      "WALKING                  0        0         2      463                  18   \n",
      "WALKING_DOWNSTAIRS       1        0         0       10                 386   \n",
      "WALKING_UPSTAIRS         0        3         5        3                  19   \n",
      "\n",
      "Pred                WALKING_UPSTAIRS  \n",
      "True                                  \n",
      "LAYING                             0  \n",
      "SITTING                            2  \n",
      "STANDING                           0  \n",
      "WALKING                           13  \n",
      "WALKING_DOWNSTAIRS                23  \n",
      "WALKING_UPSTAIRS                 441  \n",
      "2947/2947 [==============================] - 3s 881us/step\n",
      "\n",
      "test accuracy:  0.8557855486869812\n"
     ]
    }
   ],
   "source": [
    "history = []\n",
    "history.append(training(X_train[3], y_train, X_test[3], y_test, 0.15, 300, 15))"
   ]
  },
  {
   "cell_type": "code",
   "execution_count": 480,
   "metadata": {
    "collapsed": true
   },
   "outputs": [
    {
     "data": {
      "image/png": "[encoded data removed]",
      "text/plain": [
       "<Figure size 432x288 with 1 Axes>"
      ]
     },
     "metadata": {
      "needs_background": "light"
     },
     "output_type": "display_data"
    },
    {
     "data": {
      "image/png": "[encoded data removed]",
      "text/plain": [
       "<Figure size 432x288 with 1 Axes>"
      ]
     },
     "metadata": {
      "needs_background": "light"
     },
     "output_type": "display_data"
    },
    {
     "data": {
      "text/plain": [
       "<Figure size 432x288 with 0 Axes>"
      ]
     },
     "metadata": {},
     "output_type": "display_data"
    }
   ],
   "source": [
    "show_train_history(history)"
   ]
  },
  {
   "cell_type": "code",
   "execution_count": 481,
   "metadata": {
    "scrolled": true
   },
   "outputs": [
    {
     "name": "stdout",
     "output_type": "stream",
     "text": [
      "Train on 6249 samples, validate on 1103 samples\n",
      "Epoch 1/15\n",
      "6249/6249 [==============================] - 17s 3ms/step - loss: 2.8706 - accuracy: 0.6398 - val_loss: 2.9094 - val_accuracy: 0.3880\n",
      "Epoch 2/15\n",
      "6249/6249 [==============================] - 14s 2ms/step - loss: 2.3690 - accuracy: 0.7488 - val_loss: 2.1971 - val_accuracy: 0.6083\n",
      "Epoch 3/15\n",
      "6249/6249 [==============================] - 13s 2ms/step - loss: 2.1651 - accuracy: 0.7843 - val_loss: 1.8733 - val_accuracy: 0.9039\n",
      "Epoch 4/15\n",
      "6249/6249 [==============================] - 14s 2ms/step - loss: 2.0023 - accuracy: 0.8393 - val_loss: 1.7997 - val_accuracy: 0.9474\n",
      "Epoch 5/15\n",
      "6249/6249 [==============================] - 13s 2ms/step - loss: 1.9232 - accuracy: 0.8872 - val_loss: 1.7853 - val_accuracy: 0.9374\n",
      "Epoch 6/15\n",
      "6249/6249 [==============================] - 13s 2ms/step - loss: 1.8821 - accuracy: 0.9021 - val_loss: 1.7601 - val_accuracy: 0.9411\n",
      "Epoch 7/15\n",
      "6249/6249 [==============================] - 13s 2ms/step - loss: 1.8432 - accuracy: 0.9219 - val_loss: 1.7375 - val_accuracy: 0.9492\n",
      "Epoch 8/15\n",
      "6249/6249 [==============================] - 13s 2ms/step - loss: 1.8404 - accuracy: 0.9205 - val_loss: 1.7358 - val_accuracy: 0.9465\n",
      "Epoch 9/15\n",
      "6249/6249 [==============================] - 13s 2ms/step - loss: 1.8187 - accuracy: 0.9296 - val_loss: 1.7092 - val_accuracy: 0.9383\n",
      "Epoch 10/15\n",
      "6249/6249 [==============================] - 13s 2ms/step - loss: 1.7996 - accuracy: 0.9341 - val_loss: 1.7263 - val_accuracy: 0.9383\n",
      "Epoch 11/15\n",
      "6249/6249 [==============================] - 13s 2ms/step - loss: 1.7821 - accuracy: 0.9411 - val_loss: 1.6899 - val_accuracy: 0.9547\n",
      "Epoch 12/15\n",
      "6249/6249 [==============================] - 13s 2ms/step - loss: 1.7581 - accuracy: 0.9445 - val_loss: 1.6736 - val_accuracy: 0.9465\n",
      "Epoch 13/15\n",
      "6249/6249 [==============================] - 13s 2ms/step - loss: 1.7908 - accuracy: 0.9350 - val_loss: 1.6947 - val_accuracy: 0.9474\n",
      "Epoch 14/15\n",
      "6249/6249 [==============================] - 13s 2ms/step - loss: 1.7497 - accuracy: 0.9427 - val_loss: 1.6710 - val_accuracy: 0.9338\n",
      "Epoch 15/15\n",
      "6249/6249 [==============================] - 13s 2ms/step - loss: 1.7608 - accuracy: 0.9446 - val_loss: 1.6845 - val_accuracy: 0.9501\n",
      "\n",
      "train predict: \n",
      " Pred                LAYING  SITTING  STANDING  WALKING  WALKING_DOWNSTAIRS  \\\n",
      "True                                                                         \n",
      "LAYING                1407        0         0        0                   0   \n",
      "SITTING                  0     1131       152        3                   0   \n",
      "STANDING                 0      166      1205        3                   0   \n",
      "WALKING                  0        0         0     1226                   0   \n",
      "WALKING_DOWNSTAIRS       0        0         0        5                 981   \n",
      "WALKING_UPSTAIRS         0        1         1       17                  17   \n",
      "\n",
      "Pred                WALKING_UPSTAIRS  \n",
      "True                                  \n",
      "LAYING                             0  \n",
      "SITTING                            0  \n",
      "STANDING                           0  \n",
      "WALKING                            0  \n",
      "WALKING_DOWNSTAIRS                 0  \n",
      "WALKING_UPSTAIRS                1037  \n",
      "\n",
      "test predict: \n",
      " Pred                LAYING  SITTING  STANDING  WALKING  WALKING_DOWNSTAIRS  \\\n",
      "True                                                                         \n",
      "LAYING                 537        0         0        0                   0   \n",
      "SITTING                  4      374       108        2                   0   \n",
      "STANDING                 0       57       470        4                   0   \n",
      "WALKING                  0        0         0      492                   4   \n",
      "WALKING_DOWNSTAIRS       0        0         0       17                 403   \n",
      "WALKING_UPSTAIRS         0        0         0       50                  51   \n",
      "\n",
      "Pred                WALKING_UPSTAIRS  \n",
      "True                                  \n",
      "LAYING                             0  \n",
      "SITTING                            3  \n",
      "STANDING                           1  \n",
      "WALKING                            0  \n",
      "WALKING_DOWNSTAIRS                 0  \n",
      "WALKING_UPSTAIRS                 370  \n",
      "2947/2947 [==============================] - 3s 895us/step\n",
      "\n",
      "test accuracy:  0.8978622555732727\n"
     ]
    }
   ],
   "source": [
    "history = []\n",
    "history.append(training(X_train[4], y_train, X_test[4], y_test, 0.15, 300, 15))"
   ]
  },
  {
   "cell_type": "code",
   "execution_count": 482,
   "metadata": {
    "collapsed": true
   },
   "outputs": [
    {
     "data": {
      "image/png": "[encoded data removed]",
      "text/plain": [
       "<Figure size 432x288 with 1 Axes>"
      ]
     },
     "metadata": {
      "needs_background": "light"
     },
     "output_type": "display_data"
    },
    {
     "data": {
      "image/png": "[encoded data removed]",
      "text/plain": [
       "<Figure size 432x288 with 1 Axes>"
      ]
     },
     "metadata": {
      "needs_background": "light"
     },
     "output_type": "display_data"
    },
    {
     "data": {
      "text/plain": [
       "<Figure size 432x288 with 0 Axes>"
      ]
     },
     "metadata": {},
     "output_type": "display_data"
    }
   ],
   "source": [
    "show_train_history(history)"
   ]
  },
  {
   "cell_type": "code",
   "execution_count": 483,
   "metadata": {
    "scrolled": true
   },
   "outputs": [
    {
     "name": "stdout",
     "output_type": "stream",
     "text": [
      "Train on 6249 samples, validate on 1103 samples\n",
      "Epoch 1/15\n",
      "6249/6249 [==============================] - 17s 3ms/step - loss: 3.5378 - accuracy: 0.4569 - val_loss: 2.2266 - val_accuracy: 0.5476\n",
      "Epoch 2/15\n",
      "6249/6249 [==============================] - 14s 2ms/step - loss: 2.7354 - accuracy: 0.6772 - val_loss: 2.2301 - val_accuracy: 0.8259\n",
      "Epoch 3/15\n",
      "6249/6249 [==============================] - 13s 2ms/step - loss: 2.5168 - accuracy: 0.6870 - val_loss: 2.1841 - val_accuracy: 0.8513\n",
      "Epoch 4/15\n",
      "6249/6249 [==============================] - 14s 2ms/step - loss: 2.3809 - accuracy: 0.6955 - val_loss: 2.1024 - val_accuracy: 0.8504\n",
      "Epoch 5/15\n",
      "6249/6249 [==============================] - 13s 2ms/step - loss: 2.2689 - accuracy: 0.7296 - val_loss: 2.0251 - val_accuracy: 0.8558\n",
      "Epoch 6/15\n",
      "6249/6249 [==============================] - 13s 2ms/step - loss: 2.1681 - accuracy: 0.7436 - val_loss: 1.9617 - val_accuracy: 0.8785\n",
      "Epoch 7/15\n",
      "6249/6249 [==============================] - 13s 2ms/step - loss: 2.1095 - accuracy: 0.7748 - val_loss: 1.8831 - val_accuracy: 0.8858\n",
      "Epoch 8/15\n",
      "6249/6249 [==============================] - 13s 2ms/step - loss: 2.0451 - accuracy: 0.7972 - val_loss: 1.8265 - val_accuracy: 0.8976\n",
      "Epoch 9/15\n",
      "6249/6249 [==============================] - 13s 2ms/step - loss: 1.9912 - accuracy: 0.8189 - val_loss: 1.8192 - val_accuracy: 0.9003\n",
      "Epoch 10/15\n",
      "6249/6249 [==============================] - 14s 2ms/step - loss: 1.9201 - accuracy: 0.8433 - val_loss: 1.7510 - val_accuracy: 0.9048\n",
      "Epoch 11/15\n",
      "6249/6249 [==============================] - 13s 2ms/step - loss: 1.8662 - accuracy: 0.8665 - val_loss: 1.7239 - val_accuracy: 0.9166\n",
      "Epoch 12/15\n",
      "6249/6249 [==============================] - 13s 2ms/step - loss: 1.8188 - accuracy: 0.8869 - val_loss: 1.7169 - val_accuracy: 0.9248\n",
      "Epoch 13/15\n",
      "6249/6249 [==============================] - 14s 2ms/step - loss: 1.7832 - accuracy: 0.9115 - val_loss: 1.6888 - val_accuracy: 0.9248\n",
      "Epoch 14/15\n",
      "6249/6249 [==============================] - 13s 2ms/step - loss: 1.7539 - accuracy: 0.9291 - val_loss: 1.6840 - val_accuracy: 0.9311\n",
      "Epoch 15/15\n",
      "6249/6249 [==============================] - 13s 2ms/step - loss: 1.7314 - accuracy: 0.9445 - val_loss: 1.6710 - val_accuracy: 0.9293\n",
      "\n",
      "train predict: \n",
      " Pred                LAYING  SITTING  STANDING  WALKING  WALKING_DOWNSTAIRS  \\\n",
      "True                                                                         \n",
      "LAYING                1370       20        17        0                   0   \n",
      "SITTING                 21     1235        30        0                   0   \n",
      "STANDING                12       36      1326        0                   0   \n",
      "WALKING                  0        0         0     1226                   0   \n",
      "WALKING_DOWNSTAIRS       0        0         0        0                 986   \n",
      "WALKING_UPSTAIRS         0        0         0        0                   0   \n",
      "\n",
      "Pred                WALKING_UPSTAIRS  \n",
      "True                                  \n",
      "LAYING                             0  \n",
      "SITTING                            0  \n",
      "STANDING                           0  \n",
      "WALKING                            0  \n",
      "WALKING_DOWNSTAIRS                 0  \n",
      "WALKING_UPSTAIRS                1073  \n",
      "\n",
      "test predict: \n",
      " Pred                LAYING  SITTING  STANDING  WALKING  WALKING_DOWNSTAIRS  \\\n",
      "True                                                                         \n",
      "LAYING                 438       56        42        1                   0   \n",
      "SITTING                 29      425        37        0                   0   \n",
      "STANDING                17       56       459        0                   0   \n",
      "WALKING                  1        6        16      455                  16   \n",
      "WALKING_DOWNSTAIRS      14        0         2        0                 401   \n",
      "WALKING_UPSTAIRS         0       34         0        0                   4   \n",
      "\n",
      "Pred                WALKING_UPSTAIRS  \n",
      "True                                  \n",
      "LAYING                             0  \n",
      "SITTING                            0  \n",
      "STANDING                           0  \n",
      "WALKING                            2  \n",
      "WALKING_DOWNSTAIRS                 3  \n",
      "WALKING_UPSTAIRS                 433  \n",
      "2947/2947 [==============================] - 3s 890us/step\n",
      "\n",
      "test accuracy:  0.8859857320785522\n"
     ]
    }
   ],
   "source": [
    "history = []\n",
    "history.append(training(X_train[5], y_train, X_test[5], y_test, 0.15, 300, 15))"
   ]
  },
  {
   "cell_type": "code",
   "execution_count": 484,
   "metadata": {
    "collapsed": true
   },
   "outputs": [
    {
     "data": {
      "image/png": "[encoded data removed]",
      "text/plain": [
       "<Figure size 432x288 with 1 Axes>"
      ]
     },
     "metadata": {
      "needs_background": "light"
     },
     "output_type": "display_data"
    },
    {
     "data": {
      "image/png": "[encoded data removed]",
      "text/plain": [
       "<Figure size 432x288 with 1 Axes>"
      ]
     },
     "metadata": {
      "needs_background": "light"
     },
     "output_type": "display_data"
    },
    {
     "data": {
      "text/plain": [
       "<Figure size 432x288 with 0 Axes>"
      ]
     },
     "metadata": {},
     "output_type": "display_data"
    }
   ],
   "source": [
    "show_train_history(history)"
   ]
  },
  {
   "cell_type": "code",
   "execution_count": null,
   "metadata": {},
   "outputs": [],
   "source": []
  }
 ],
 "metadata": {
  "kernelspec": {
   "display_name": "Python 3",
   "language": "python",
   "name": "python3"
  },
  "language_info": {
   "codemirror_mode": {
    "name": "ipython",
    "version": 3
   },
   "file_extension": ".py",
   "mimetype": "text/x-python",
   "name": "python",
   "nbconvert_exporter": "python",
   "pygments_lexer": "ipython3",
   "version": "3.7.6"
  }
 },
 "nbformat": 4,
 "nbformat_minor": 4
}
