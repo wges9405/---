{
 "cells": [
  {
   "cell_type": "code",
   "execution_count": 1,
   "metadata": {},
   "outputs": [],
   "source": [
    "import matplotlib.pyplot as plt\n",
    "from scipy.fftpack import fft\n",
    "from scipy import signal\n",
    "import pandas as pd\n",
    "import numpy as np\n",
    "import random\n",
    "\n",
    "SIGNALS = [\n",
    "    \"body_acc_x\", \"body_acc_y\", \"body_acc_z\",\n",
    "    \"body_gyro_x\", \"body_gyro_y\", \"body_gyro_z\",\n",
    "    \"total_acc_x\", \"total_acc_y\", \"total_acc_z\"\n",
    "]"
   ]
  },
  {
   "cell_type": "markdown",
   "metadata": {},
   "source": [
    "## Matplot"
   ]
  },
  {
   "cell_type": "code",
   "execution_count": 2,
   "metadata": {},
   "outputs": [],
   "source": [
    "def showplot(data):\n",
    "    plt.plot(data)\n",
    "    plt.show()"
   ]
  },
  {
   "cell_type": "markdown",
   "metadata": {},
   "source": [
    "## Filter"
   ]
  },
  {
   "cell_type": "code",
   "execution_count": 3,
   "metadata": {},
   "outputs": [],
   "source": [
    "def MedianFilter(data):  #input size: 1 axis\n",
    "\treturn signal.medfilt(data, [1,3])\n",
    "\n",
    "def LowPassButterworthFilter(para, data):  #input size: 1 axis\n",
    "\tb, a = signal.butter(3, 2*para[0]/para[1], btype='lowpass', analog=False, output='ba')\n",
    "\treturn signal.filtfilt(b, a, data)"
   ]
  },
  {
   "cell_type": "markdown",
   "metadata": {},
   "source": [
    "## Normalizatoin"
   ]
  },
  {
   "cell_type": "code",
   "execution_count": 4,
   "metadata": {},
   "outputs": [],
   "source": [
    "def Normalization(data):\n",
    "    normalized = np.empty(shape=data.shape)\n",
    "    mean = np.mean(data, axis=1)\n",
    "    std = np.std(data, axis=1)\n",
    "    for row in range(data.shape[0]):\n",
    "        if not std[row] == 0:\n",
    "            for col in range(data.shape[1]):\n",
    "                normalized[row][col] = (data[row][col] - mean[row]) / std[row]\n",
    "    return normalized"
   ]
  },
  {
   "cell_type": "markdown",
   "metadata": {},
   "source": [
    "## Fast Fourier Transform"
   ]
  },
  {
   "cell_type": "code",
   "execution_count": 5,
   "metadata": {},
   "outputs": [],
   "source": [
    "def FFT(data):\n",
    "    return abs(fft(data))/128"
   ]
  },
  {
   "cell_type": "markdown",
   "metadata": {},
   "source": [
    "## Preprocess"
   ]
  },
  {
   "cell_type": "code",
   "execution_count": 6,
   "metadata": {},
   "outputs": [],
   "source": [
    "def preprocess(para, data):\n",
    "#     _median = MedianFilter(data)\n",
    "#     _butterworth = LowPassButterworthFilter(para, _median)\n",
    "    if para[2]==True:\n",
    "        _normalize = Normalization(data)\n",
    "        _fft = FFT(_normalize)\n",
    "        return _fft\n",
    "    else:\n",
    "        _fft = FFT(data)\n",
    "        return _fft"
   ]
  },
  {
   "cell_type": "markdown",
   "metadata": {},
   "source": [
    "## Shuffle"
   ]
  },
  {
   "cell_type": "code",
   "execution_count": 7,
   "metadata": {},
   "outputs": [],
   "source": [
    "def shuffle(data):\n",
    "    index = np.arange(data.shape[0])\n",
    "    np.random.shuffle(index)\n",
    "    return data[index]"
   ]
  },
  {
   "cell_type": "markdown",
   "metadata": {},
   "source": [
    "## Other functions"
   ]
  },
  {
   "cell_type": "code",
   "execution_count": 8,
   "metadata": {},
   "outputs": [],
   "source": [
    "def _read_csv(filename):    \n",
    "    return pd.read_csv(filename, delim_whitespace=True, header=None)\n",
    "\n",
    "def load_signals(para, subset):\n",
    "    tmp_signal = []\n",
    "    time_data = []\n",
    "    freq_data = []\n",
    "    for signal in SIGNALS:\n",
    "        filename = f'./{subset}Data/{signal}_{subset}.txt'\n",
    "\n",
    "        raw_data = _read_csv(filename).to_numpy()\n",
    "        if para[2]==True: raw_data = Normalization(raw_data)\n",
    "        preprocessed_data = preprocess(para, raw_data)\n",
    "            \n",
    "        if 'body_acc' in signal:\n",
    "            tmp_signal.append(raw_data)\n",
    "            tmp_signal.append(preprocessed_data)\n",
    "            \n",
    "        time_data.append(raw_data)\n",
    "        freq_data.append(preprocessed_data)\n",
    "        \n",
    "    for index in range(3):\n",
    "        time_data.append(tmp_signal[index*2])\n",
    "        freq_data.append(tmp_signal[index*2+1])\n",
    "        \n",
    "    time_data = np.transpose(time_data, (1, 2, 0))\n",
    "    freq_data = np.transpose(freq_data, (1, 2, 0))\n",
    "    \n",
    "    if para[0]=='T':   return time_data.reshape(time_data.shape[0],time_data.shape[1],time_data.shape[2],1)\n",
    "    elif para[0]=='F': return freq_data.reshape(freq_data.shape[0],freq_data.shape[1],freq_data.shape[2],1)\n",
    "    elif para[0]=='B': return np.transpose([time_data, freq_data], (1, 2, 3, 0))\n",
    "\n",
    "def load_targets(subset):\n",
    "    filename = f'./{subset}Data/y_{subset}.txt'\n",
    "    y = _read_csv(filename)[0]\n",
    "    return pd.get_dummies(y).to_numpy()"
   ]
  },
  {
   "cell_type": "markdown",
   "metadata": {},
   "source": [
    "## Main function"
   ]
  },
  {
   "cell_type": "code",
   "execution_count": 9,
   "metadata": {},
   "outputs": [],
   "source": [
    "def load_data(para):\n",
    "    X_train = shuffle(load_signals(para, 'train'))\n",
    "    X_test  = load_signals(para, 'test')\n",
    "    y_train = shuffle(load_targets('train'))\n",
    "    y_test  = load_targets('test')\n",
    "\n",
    "    return X_train, X_test, y_train, y_test"
   ]
  },
  {
   "cell_type": "markdown",
   "metadata": {},
   "source": [
    "## Test"
   ]
  },
  {
   "cell_type": "code",
   "execution_count": null,
   "metadata": {},
   "outputs": [],
   "source": []
  }
 ],
 "metadata": {
  "kernelspec": {
   "display_name": "Python 3",
   "language": "python",
   "name": "python3"
  },
  "language_info": {
   "codemirror_mode": {
    "name": "ipython",
    "version": 3
   },
   "file_extension": ".py",
   "mimetype": "text/x-python",
   "name": "python",
   "nbconvert_exporter": "python",
   "pygments_lexer": "ipython3",
   "version": "3.7.6"
  }
 },
 "nbformat": 4,
 "nbformat_minor": 4
}
